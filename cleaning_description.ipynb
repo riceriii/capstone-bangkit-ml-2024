{
 "cells": [
  {
   "cell_type": "code",
   "execution_count": 1,
   "metadata": {},
   "outputs": [],
   "source": [
    "import pandas as pd\n",
    "import re\n",
    "import nltk\n",
    "from nltk.corpus import stopwords\n",
    "from nltk.tokenize import word_tokenize\n",
    "from nltk.stem import WordNetLemmatizer\n",
    "import string"
   ]
  },
  {
   "cell_type": "code",
   "execution_count": 11,
   "metadata": {},
   "outputs": [
    {
     "name": "stderr",
     "output_type": "stream",
     "text": [
      "[nltk_data] Downloading package punkt to\n",
      "[nltk_data]     /Users/chrysentiaclarissa/nltk_data...\n",
      "[nltk_data]   Unzipping tokenizers/punkt.zip.\n",
      "[nltk_data] Downloading package stopwords to\n",
      "[nltk_data]     /Users/chrysentiaclarissa/nltk_data...\n",
      "[nltk_data]   Unzipping corpora/stopwords.zip.\n",
      "[nltk_data] Downloading package wordnet to\n",
      "[nltk_data]     /Users/chrysentiaclarissa/nltk_data...\n"
     ]
    },
    {
     "data": {
      "text/plain": [
       "True"
      ]
     },
     "execution_count": 11,
     "metadata": {},
     "output_type": "execute_result"
    }
   ],
   "source": [
    "# Download NLTK data files \n",
    "nltk.download('punkt')\n",
    "nltk.download('stopwords')\n",
    "nltk.download('wordnet')"
   ]
  },
  {
   "cell_type": "code",
   "execution_count": 13,
   "metadata": {},
   "outputs": [],
   "source": [
    "# Read the CSV files\n",
    "df1 = pd.read_csv('books_with_descriptions_chunk_0.csv')\n",
    "df2 = pd.read_csv('books_with_descriptions_chunk_1.csv')\n",
    "df3 = pd.read_csv('books_with_descriptions_chunk_2.csv')\n",
    "df4 = pd.read_csv('books_with_descriptions_chunk_3.csv')\n",
    "\n",
    "# Concatenate the DataFrames by rows\n",
    "combined_data = pd.concat([df1, df2, df3, df4], ignore_index=True)"
   ]
  },
  {
   "cell_type": "code",
   "execution_count": 14,
   "metadata": {},
   "outputs": [
    {
     "data": {
      "text/html": [
       "<div>\n",
       "<style scoped>\n",
       "    .dataframe tbody tr th:only-of-type {\n",
       "        vertical-align: middle;\n",
       "    }\n",
       "\n",
       "    .dataframe tbody tr th {\n",
       "        vertical-align: top;\n",
       "    }\n",
       "\n",
       "    .dataframe thead th {\n",
       "        text-align: right;\n",
       "    }\n",
       "</style>\n",
       "<table border=\"1\" class=\"dataframe\">\n",
       "  <thead>\n",
       "    <tr style=\"text-align: right;\">\n",
       "      <th></th>\n",
       "      <th>isbn</th>\n",
       "      <th>book_title</th>\n",
       "      <th>book_author</th>\n",
       "      <th>year_of_publication</th>\n",
       "      <th>publisher</th>\n",
       "      <th>description</th>\n",
       "    </tr>\n",
       "  </thead>\n",
       "  <tbody>\n",
       "    <tr>\n",
       "      <th>0</th>\n",
       "      <td>0195153448</td>\n",
       "      <td>Classical Mythology</td>\n",
       "      <td>Mark P. O. Morford</td>\n",
       "      <td>2002.0</td>\n",
       "      <td>Oxford University Press</td>\n",
       "      <td>Provides an introduction to classical myths pl...</td>\n",
       "    </tr>\n",
       "    <tr>\n",
       "      <th>1</th>\n",
       "      <td>0002005018</td>\n",
       "      <td>Clara Callan</td>\n",
       "      <td>Richard Bruce Wright</td>\n",
       "      <td>2001.0</td>\n",
       "      <td>HarperFlamingo Canada</td>\n",
       "      <td>In a small town in Canada, Clara Callan reluct...</td>\n",
       "    </tr>\n",
       "    <tr>\n",
       "      <th>2</th>\n",
       "      <td>0060973129</td>\n",
       "      <td>Decision in Normandy</td>\n",
       "      <td>Carlo D'Este</td>\n",
       "      <td>1991.0</td>\n",
       "      <td>HarperPerennial</td>\n",
       "      <td>Here, for the first time in paperback, is an o...</td>\n",
       "    </tr>\n",
       "    <tr>\n",
       "      <th>3</th>\n",
       "      <td>0374157065</td>\n",
       "      <td>Flu: The Story of the Great Influenza Pandemic...</td>\n",
       "      <td>Gina Bari Kolata</td>\n",
       "      <td>1999.0</td>\n",
       "      <td>Farrar Straus Giroux</td>\n",
       "      <td>\"Scientists have recently discovered shards of...</td>\n",
       "    </tr>\n",
       "    <tr>\n",
       "      <th>4</th>\n",
       "      <td>0393045218</td>\n",
       "      <td>The Mummies of Urumchi</td>\n",
       "      <td>E. J. W. Barber</td>\n",
       "      <td>1999.0</td>\n",
       "      <td>W. W. Norton &amp;amp; Company</td>\n",
       "      <td>A look at the incredibly well-preserved ancien...</td>\n",
       "    </tr>\n",
       "  </tbody>\n",
       "</table>\n",
       "</div>"
      ],
      "text/plain": [
       "         isbn                                         book_title  \\\n",
       "0  0195153448                                Classical Mythology   \n",
       "1  0002005018                                       Clara Callan   \n",
       "2  0060973129                               Decision in Normandy   \n",
       "3  0374157065  Flu: The Story of the Great Influenza Pandemic...   \n",
       "4  0393045218                             The Mummies of Urumchi   \n",
       "\n",
       "            book_author  year_of_publication                   publisher  \\\n",
       "0    Mark P. O. Morford               2002.0     Oxford University Press   \n",
       "1  Richard Bruce Wright               2001.0       HarperFlamingo Canada   \n",
       "2          Carlo D'Este               1991.0             HarperPerennial   \n",
       "3      Gina Bari Kolata               1999.0        Farrar Straus Giroux   \n",
       "4       E. J. W. Barber               1999.0  W. W. Norton &amp; Company   \n",
       "\n",
       "                                         description  \n",
       "0  Provides an introduction to classical myths pl...  \n",
       "1  In a small town in Canada, Clara Callan reluct...  \n",
       "2  Here, for the first time in paperback, is an o...  \n",
       "3  \"Scientists have recently discovered shards of...  \n",
       "4  A look at the incredibly well-preserved ancien...  "
      ]
     },
     "execution_count": 14,
     "metadata": {},
     "output_type": "execute_result"
    }
   ],
   "source": [
    "combined_data.head()"
   ]
  },
  {
   "cell_type": "code",
   "execution_count": 15,
   "metadata": {},
   "outputs": [
    {
     "data": {
      "text/plain": [
       "(30000, 6)"
      ]
     },
     "execution_count": 15,
     "metadata": {},
     "output_type": "execute_result"
    }
   ],
   "source": [
    "combined_data.shape"
   ]
  },
  {
   "cell_type": "code",
   "execution_count": 16,
   "metadata": {},
   "outputs": [],
   "source": [
    "# Save the combined DataFrame to a new CSV file\n",
    "combined_data.to_csv('books_with_descriptions.csv', index=False)"
   ]
  },
  {
   "cell_type": "code",
   "execution_count": 2,
   "metadata": {},
   "outputs": [],
   "source": [
    "# Fetch preprocessed cleaned data with descriptions\n",
    "dir_path = '/Users/chrysentiaclarissa/Downloads/NLP Book Recommendation System/Book-Recommendation-System-main/books_with_descriptions.csv'\n",
    "data = pd.read_csv(dir_path)"
   ]
  },
  {
   "cell_type": "markdown",
   "metadata": {},
   "source": [
    "## Remove unwanted rows"
   ]
  },
  {
   "cell_type": "markdown",
   "metadata": {},
   "source": [
    "Filter out rows with 'Description not found'."
   ]
  },
  {
   "cell_type": "code",
   "execution_count": 3,
   "metadata": {},
   "outputs": [
    {
     "data": {
      "text/html": [
       "<div>\n",
       "<style scoped>\n",
       "    .dataframe tbody tr th:only-of-type {\n",
       "        vertical-align: middle;\n",
       "    }\n",
       "\n",
       "    .dataframe tbody tr th {\n",
       "        vertical-align: top;\n",
       "    }\n",
       "\n",
       "    .dataframe thead th {\n",
       "        text-align: right;\n",
       "    }\n",
       "</style>\n",
       "<table border=\"1\" class=\"dataframe\">\n",
       "  <thead>\n",
       "    <tr style=\"text-align: right;\">\n",
       "      <th></th>\n",
       "      <th>isbn</th>\n",
       "      <th>book_title</th>\n",
       "      <th>book_author</th>\n",
       "      <th>year_of_publication</th>\n",
       "      <th>publisher</th>\n",
       "      <th>description</th>\n",
       "    </tr>\n",
       "  </thead>\n",
       "  <tbody>\n",
       "    <tr>\n",
       "      <th>0</th>\n",
       "      <td>0195153448</td>\n",
       "      <td>Classical Mythology</td>\n",
       "      <td>Mark P. O. Morford</td>\n",
       "      <td>2002.0</td>\n",
       "      <td>Oxford University Press</td>\n",
       "      <td>Provides an introduction to classical myths pl...</td>\n",
       "    </tr>\n",
       "    <tr>\n",
       "      <th>1</th>\n",
       "      <td>0002005018</td>\n",
       "      <td>Clara Callan</td>\n",
       "      <td>Richard Bruce Wright</td>\n",
       "      <td>2001.0</td>\n",
       "      <td>HarperFlamingo Canada</td>\n",
       "      <td>In a small town in Canada, Clara Callan reluct...</td>\n",
       "    </tr>\n",
       "    <tr>\n",
       "      <th>2</th>\n",
       "      <td>0060973129</td>\n",
       "      <td>Decision in Normandy</td>\n",
       "      <td>Carlo D'Este</td>\n",
       "      <td>1991.0</td>\n",
       "      <td>HarperPerennial</td>\n",
       "      <td>Here, for the first time in paperback, is an o...</td>\n",
       "    </tr>\n",
       "    <tr>\n",
       "      <th>3</th>\n",
       "      <td>0374157065</td>\n",
       "      <td>Flu: The Story of the Great Influenza Pandemic...</td>\n",
       "      <td>Gina Bari Kolata</td>\n",
       "      <td>1999.0</td>\n",
       "      <td>Farrar Straus Giroux</td>\n",
       "      <td>\"Scientists have recently discovered shards of...</td>\n",
       "    </tr>\n",
       "    <tr>\n",
       "      <th>4</th>\n",
       "      <td>0393045218</td>\n",
       "      <td>The Mummies of Urumchi</td>\n",
       "      <td>E. J. W. Barber</td>\n",
       "      <td>1999.0</td>\n",
       "      <td>W. W. Norton &amp;amp; Company</td>\n",
       "      <td>A look at the incredibly well-preserved ancien...</td>\n",
       "    </tr>\n",
       "  </tbody>\n",
       "</table>\n",
       "</div>"
      ],
      "text/plain": [
       "         isbn                                         book_title  \\\n",
       "0  0195153448                                Classical Mythology   \n",
       "1  0002005018                                       Clara Callan   \n",
       "2  0060973129                               Decision in Normandy   \n",
       "3  0374157065  Flu: The Story of the Great Influenza Pandemic...   \n",
       "4  0393045218                             The Mummies of Urumchi   \n",
       "\n",
       "            book_author  year_of_publication                   publisher  \\\n",
       "0    Mark P. O. Morford               2002.0     Oxford University Press   \n",
       "1  Richard Bruce Wright               2001.0       HarperFlamingo Canada   \n",
       "2          Carlo D'Este               1991.0             HarperPerennial   \n",
       "3      Gina Bari Kolata               1999.0        Farrar Straus Giroux   \n",
       "4       E. J. W. Barber               1999.0  W. W. Norton &amp; Company   \n",
       "\n",
       "                                         description  \n",
       "0  Provides an introduction to classical myths pl...  \n",
       "1  In a small town in Canada, Clara Callan reluct...  \n",
       "2  Here, for the first time in paperback, is an o...  \n",
       "3  \"Scientists have recently discovered shards of...  \n",
       "4  A look at the incredibly well-preserved ancien...  "
      ]
     },
     "execution_count": 3,
     "metadata": {},
     "output_type": "execute_result"
    }
   ],
   "source": [
    "filtered_data = data[data['description'] != 'Description not found']\n",
    "filtered_data.head()"
   ]
  },
  {
   "cell_type": "code",
   "execution_count": 4,
   "metadata": {},
   "outputs": [
    {
     "data": {
      "text/plain": [
       "(13327, 6)"
      ]
     },
     "execution_count": 4,
     "metadata": {},
     "output_type": "execute_result"
    }
   ],
   "source": [
    "filtered_data.shape"
   ]
  },
  {
   "cell_type": "markdown",
   "metadata": {},
   "source": [
    "## Text cleaning"
   ]
  },
  {
   "cell_type": "markdown",
   "metadata": {},
   "source": [
    "Clean the 'Description' text by: (1) Convert text to lowercase; (2) Remove punctuation; (3) Remove stopwords; (4) Tokenize the text; and (5) \n",
    "Perform stemming or lemmatization."
   ]
  },
  {
   "cell_type": "code",
   "execution_count": 5,
   "metadata": {},
   "outputs": [],
   "source": [
    "# Initialize the stopwords set, lemmatizer, and punctuation set\n",
    "stop_words = set(stopwords.words('english'))\n",
    "lemmatizer = WordNetLemmatizer()\n",
    "punctuation = set(string.punctuation)"
   ]
  },
  {
   "cell_type": "code",
   "execution_count": 6,
   "metadata": {},
   "outputs": [],
   "source": [
    "def clean_text(text):\n",
    "    if isinstance(text, str):  # Check if the entry is a string\n",
    "        # Convert text to lowercase\n",
    "        text = text.lower()\n",
    "        # Remove punctuation using regex\n",
    "        text = re.sub(r'[^\\w\\s]', '', text)\n",
    "        # Tokenize the text\n",
    "        tokens = word_tokenize(text)\n",
    "        # Remove stopwords and lemmatize the words\n",
    "        tokens = [lemmatizer.lemmatize(word) for word in tokens if word not in stop_words]\n",
    "        # Join the tokens back into a single string\n",
    "        cleaned_text = ' '.join(tokens)\n",
    "        return cleaned_text\n",
    "    else:\n",
    "        return ''"
   ]
  },
  {
   "cell_type": "code",
   "execution_count": 7,
   "metadata": {},
   "outputs": [
    {
     "name": "stderr",
     "output_type": "stream",
     "text": [
      "/var/folders/p9/mn6vkky11nqc53tyvzjg4xj80000gn/T/ipykernel_71938/2157399697.py:1: SettingWithCopyWarning: \n",
      "A value is trying to be set on a copy of a slice from a DataFrame.\n",
      "Try using .loc[row_indexer,col_indexer] = value instead\n",
      "\n",
      "See the caveats in the documentation: https://pandas.pydata.org/pandas-docs/stable/user_guide/indexing.html#returning-a-view-versus-a-copy\n",
      "  filtered_data['description'] = filtered_data['description'].apply(clean_text)\n",
      "/var/folders/p9/mn6vkky11nqc53tyvzjg4xj80000gn/T/ipykernel_71938/2157399697.py:2: SettingWithCopyWarning: \n",
      "A value is trying to be set on a copy of a slice from a DataFrame.\n",
      "Try using .loc[row_indexer,col_indexer] = value instead\n",
      "\n",
      "See the caveats in the documentation: https://pandas.pydata.org/pandas-docs/stable/user_guide/indexing.html#returning-a-view-versus-a-copy\n",
      "  filtered_data['book_title'] = filtered_data['book_title'].apply(clean_text)\n",
      "/var/folders/p9/mn6vkky11nqc53tyvzjg4xj80000gn/T/ipykernel_71938/2157399697.py:3: SettingWithCopyWarning: \n",
      "A value is trying to be set on a copy of a slice from a DataFrame.\n",
      "Try using .loc[row_indexer,col_indexer] = value instead\n",
      "\n",
      "See the caveats in the documentation: https://pandas.pydata.org/pandas-docs/stable/user_guide/indexing.html#returning-a-view-versus-a-copy\n",
      "  filtered_data['book_author'] = filtered_data['book_author'].apply(clean_text)\n",
      "/var/folders/p9/mn6vkky11nqc53tyvzjg4xj80000gn/T/ipykernel_71938/2157399697.py:4: SettingWithCopyWarning: \n",
      "A value is trying to be set on a copy of a slice from a DataFrame.\n",
      "Try using .loc[row_indexer,col_indexer] = value instead\n",
      "\n",
      "See the caveats in the documentation: https://pandas.pydata.org/pandas-docs/stable/user_guide/indexing.html#returning-a-view-versus-a-copy\n",
      "  filtered_data['publisher'] = filtered_data['publisher'].apply(clean_text)\n"
     ]
    }
   ],
   "source": [
    "filtered_data['description'] = filtered_data['description'].apply(clean_text)\n",
    "filtered_data['book_title'] = filtered_data['book_title'].apply(clean_text)\n",
    "filtered_data['book_author'] = filtered_data['book_author'].apply(clean_text)\n",
    "filtered_data['publisher'] = filtered_data['publisher'].apply(clean_text)"
   ]
  },
  {
   "cell_type": "code",
   "execution_count": 8,
   "metadata": {},
   "outputs": [],
   "source": [
    "pd.set_option('display.max_colwidth', 1)"
   ]
  },
  {
   "cell_type": "code",
   "execution_count": 9,
   "metadata": {},
   "outputs": [
    {
     "data": {
      "text/html": [
       "<div>\n",
       "<style scoped>\n",
       "    .dataframe tbody tr th:only-of-type {\n",
       "        vertical-align: middle;\n",
       "    }\n",
       "\n",
       "    .dataframe tbody tr th {\n",
       "        vertical-align: top;\n",
       "    }\n",
       "\n",
       "    .dataframe thead th {\n",
       "        text-align: right;\n",
       "    }\n",
       "</style>\n",
       "<table border=\"1\" class=\"dataframe\">\n",
       "  <thead>\n",
       "    <tr style=\"text-align: right;\">\n",
       "      <th></th>\n",
       "      <th>isbn</th>\n",
       "      <th>book_title</th>\n",
       "      <th>book_author</th>\n",
       "      <th>year_of_publication</th>\n",
       "      <th>publisher</th>\n",
       "      <th>description</th>\n",
       "    </tr>\n",
       "  </thead>\n",
       "  <tbody>\n",
       "    <tr>\n",
       "      <th>0</th>\n",
       "      <td>0195153448</td>\n",
       "      <td>classical mythology</td>\n",
       "      <td>mark p morford</td>\n",
       "      <td>2002.0</td>\n",
       "      <td>oxford university press</td>\n",
       "      <td>provides introduction classical myth placing addressed topic within historical context discussion archaeological evidence support mythical event theme portrayed literature art music film</td>\n",
       "    </tr>\n",
       "    <tr>\n",
       "      <th>1</th>\n",
       "      <td>0002005018</td>\n",
       "      <td>clara callan</td>\n",
       "      <td>richard bruce wright</td>\n",
       "      <td>2001.0</td>\n",
       "      <td>harperflamingo canada</td>\n",
       "      <td>small town canada clara callan reluctantly take leave sister nora bound new york time growing threat fascism europe constant worry people escape reality radio movie meanwhile two sister vastly different personality yet inextricably linked shared past try find place within complex web social expectation young woman 1930s nora embarks glamorous career radiosoap opera star clara strong independentminded woman struggle observe traditional boundary small tightknit community without relinquishing dream love freedom adventure however thing arent simple appear noras letter eventually reveal life big city le exotic seems tranquil solitude claras life shattered series unforeseeable event twist fate require claras courage strength finally put seemingly unbreakable bond sister test</td>\n",
       "    </tr>\n",
       "    <tr>\n",
       "      <th>2</th>\n",
       "      <td>0060973129</td>\n",
       "      <td>decision normandy</td>\n",
       "      <td>carlo deste</td>\n",
       "      <td>1991.0</td>\n",
       "      <td>harperperennial</td>\n",
       "      <td>first time paperback outstanding military history offer dramatic new perspective allied campaign began invasion dday beach normandy nationa advertising military history</td>\n",
       "    </tr>\n",
       "    <tr>\n",
       "      <th>3</th>\n",
       "      <td>0374157065</td>\n",
       "      <td>flu story great influenza pandemic 1918 search virus caused</td>\n",
       "      <td>gina bari kolata</td>\n",
       "      <td>1999.0</td>\n",
       "      <td>farrar straus giroux</td>\n",
       "      <td>scientist recently discovered shard flu virus human remains frozen arctic tundra scrap tissue preserved government warehouse flu gina kolata reporter new york time unravels mystery lethal virus high drama great adventure story alaska norway street hong kong corridor white house kolata track race recover live pathogen probe fear impelled government policy delf history flu previous epidemic profile expert hot trail amateur woefully misguided detail science latest understanding mortal diseasebook jackettitle summary field provided blackwell north america inc right reserved</td>\n",
       "    </tr>\n",
       "    <tr>\n",
       "      <th>4</th>\n",
       "      <td>0393045218</td>\n",
       "      <td>mummy urumchi</td>\n",
       "      <td>e j w barber</td>\n",
       "      <td>1999.0</td>\n",
       "      <td>w w norton amp company</td>\n",
       "      <td>look incredibly wellpreserved ancient mummy found western china describes clothing appearance attempt reconstruct culture speculates caucasian could found way foot himalayan mountain</td>\n",
       "    </tr>\n",
       "  </tbody>\n",
       "</table>\n",
       "</div>"
      ],
      "text/plain": [
       "         isbn                                                   book_title  \\\n",
       "0  0195153448  classical mythology                                           \n",
       "1  0002005018  clara callan                                                  \n",
       "2  0060973129  decision normandy                                             \n",
       "3  0374157065  flu story great influenza pandemic 1918 search virus caused   \n",
       "4  0393045218  mummy urumchi                                                 \n",
       "\n",
       "            book_author  year_of_publication                publisher  \\\n",
       "0  mark p morford        2002.0               oxford university press   \n",
       "1  richard bruce wright  2001.0               harperflamingo canada     \n",
       "2  carlo deste           1991.0               harperperennial           \n",
       "3  gina bari kolata      1999.0               farrar straus giroux      \n",
       "4  e j w barber          1999.0               w w norton amp company    \n",
       "\n",
       "                                                                                                                                                                                                                                                                                                                                                                                                                                                                                                                                                                                                                                                                                                                                                                                                    description  \n",
       "0  provides introduction classical myth placing addressed topic within historical context discussion archaeological evidence support mythical event theme portrayed literature art music film                                                                                                                                                                                                                                                                                                                                                                                                                                                                                                                                                                                                                    \n",
       "1  small town canada clara callan reluctantly take leave sister nora bound new york time growing threat fascism europe constant worry people escape reality radio movie meanwhile two sister vastly different personality yet inextricably linked shared past try find place within complex web social expectation young woman 1930s nora embarks glamorous career radiosoap opera star clara strong independentminded woman struggle observe traditional boundary small tightknit community without relinquishing dream love freedom adventure however thing arent simple appear noras letter eventually reveal life big city le exotic seems tranquil solitude claras life shattered series unforeseeable event twist fate require claras courage strength finally put seemingly unbreakable bond sister test  \n",
       "2  first time paperback outstanding military history offer dramatic new perspective allied campaign began invasion dday beach normandy nationa advertising military history                                                                                                                                                                                                                                                                                                                                                                                                                                                                                                                                                                                                                                      \n",
       "3  scientist recently discovered shard flu virus human remains frozen arctic tundra scrap tissue preserved government warehouse flu gina kolata reporter new york time unravels mystery lethal virus high drama great adventure story alaska norway street hong kong corridor white house kolata track race recover live pathogen probe fear impelled government policy delf history flu previous epidemic profile expert hot trail amateur woefully misguided detail science latest understanding mortal diseasebook jackettitle summary field provided blackwell north america inc right reserved                                                                                                                                                                                                              \n",
       "4  look incredibly wellpreserved ancient mummy found western china describes clothing appearance attempt reconstruct culture speculates caucasian could found way foot himalayan mountain                                                                                                                                                                                                                                                                                                                                                                                                                                                                                                                                                                                                                        "
      ]
     },
     "execution_count": 9,
     "metadata": {},
     "output_type": "execute_result"
    }
   ],
   "source": [
    "filtered_data.head()"
   ]
  },
  {
   "cell_type": "markdown",
   "metadata": {},
   "source": [
    "## Drop books with the same descriptions"
   ]
  },
  {
   "cell_type": "code",
   "execution_count": 10,
   "metadata": {},
   "outputs": [],
   "source": [
    "# Remove rows with duplicate description\n",
    "filtered_data = filtered_data.drop_duplicates(subset=['description'])"
   ]
  },
  {
   "cell_type": "code",
   "execution_count": 11,
   "metadata": {},
   "outputs": [
    {
     "data": {
      "text/plain": [
       "(13093, 6)"
      ]
     },
     "execution_count": 11,
     "metadata": {},
     "output_type": "execute_result"
    }
   ],
   "source": [
    "filtered_data.shape"
   ]
  },
  {
   "cell_type": "markdown",
   "metadata": {},
   "source": [
    "## Transform publisher and author names into single token"
   ]
  },
  {
   "cell_type": "code",
   "execution_count": 12,
   "metadata": {},
   "outputs": [
    {
     "data": {
      "text/html": [
       "<div>\n",
       "<style scoped>\n",
       "    .dataframe tbody tr th:only-of-type {\n",
       "        vertical-align: middle;\n",
       "    }\n",
       "\n",
       "    .dataframe tbody tr th {\n",
       "        vertical-align: top;\n",
       "    }\n",
       "\n",
       "    .dataframe thead th {\n",
       "        text-align: right;\n",
       "    }\n",
       "</style>\n",
       "<table border=\"1\" class=\"dataframe\">\n",
       "  <thead>\n",
       "    <tr style=\"text-align: right;\">\n",
       "      <th></th>\n",
       "      <th>isbn</th>\n",
       "      <th>book_title</th>\n",
       "      <th>book_author</th>\n",
       "      <th>year_of_publication</th>\n",
       "      <th>publisher</th>\n",
       "      <th>description</th>\n",
       "    </tr>\n",
       "  </thead>\n",
       "  <tbody>\n",
       "    <tr>\n",
       "      <th>0</th>\n",
       "      <td>0195153448</td>\n",
       "      <td>classical mythology</td>\n",
       "      <td>mark_p_morford</td>\n",
       "      <td>2002.0</td>\n",
       "      <td>oxford_university_press</td>\n",
       "      <td>provides introduction classical myth placing addressed topic within historical context discussion archaeological evidence support mythical event theme portrayed literature art music film</td>\n",
       "    </tr>\n",
       "    <tr>\n",
       "      <th>1</th>\n",
       "      <td>0002005018</td>\n",
       "      <td>clara callan</td>\n",
       "      <td>richard_bruce_wright</td>\n",
       "      <td>2001.0</td>\n",
       "      <td>harperflamingo_canada</td>\n",
       "      <td>small town canada clara callan reluctantly take leave sister nora bound new york time growing threat fascism europe constant worry people escape reality radio movie meanwhile two sister vastly different personality yet inextricably linked shared past try find place within complex web social expectation young woman 1930s nora embarks glamorous career radiosoap opera star clara strong independentminded woman struggle observe traditional boundary small tightknit community without relinquishing dream love freedom adventure however thing arent simple appear noras letter eventually reveal life big city le exotic seems tranquil solitude claras life shattered series unforeseeable event twist fate require claras courage strength finally put seemingly unbreakable bond sister test</td>\n",
       "    </tr>\n",
       "    <tr>\n",
       "      <th>2</th>\n",
       "      <td>0060973129</td>\n",
       "      <td>decision normandy</td>\n",
       "      <td>carlo_deste</td>\n",
       "      <td>1991.0</td>\n",
       "      <td>harperperennial</td>\n",
       "      <td>first time paperback outstanding military history offer dramatic new perspective allied campaign began invasion dday beach normandy nationa advertising military history</td>\n",
       "    </tr>\n",
       "    <tr>\n",
       "      <th>3</th>\n",
       "      <td>0374157065</td>\n",
       "      <td>flu story great influenza pandemic 1918 search virus caused</td>\n",
       "      <td>gina_bari_kolata</td>\n",
       "      <td>1999.0</td>\n",
       "      <td>farrar_straus_giroux</td>\n",
       "      <td>scientist recently discovered shard flu virus human remains frozen arctic tundra scrap tissue preserved government warehouse flu gina kolata reporter new york time unravels mystery lethal virus high drama great adventure story alaska norway street hong kong corridor white house kolata track race recover live pathogen probe fear impelled government policy delf history flu previous epidemic profile expert hot trail amateur woefully misguided detail science latest understanding mortal diseasebook jackettitle summary field provided blackwell north america inc right reserved</td>\n",
       "    </tr>\n",
       "    <tr>\n",
       "      <th>4</th>\n",
       "      <td>0393045218</td>\n",
       "      <td>mummy urumchi</td>\n",
       "      <td>e_j_w_barber</td>\n",
       "      <td>1999.0</td>\n",
       "      <td>w_w_norton_amp_company</td>\n",
       "      <td>look incredibly wellpreserved ancient mummy found western china describes clothing appearance attempt reconstruct culture speculates caucasian could found way foot himalayan mountain</td>\n",
       "    </tr>\n",
       "  </tbody>\n",
       "</table>\n",
       "</div>"
      ],
      "text/plain": [
       "         isbn                                                   book_title  \\\n",
       "0  0195153448  classical mythology                                           \n",
       "1  0002005018  clara callan                                                  \n",
       "2  0060973129  decision normandy                                             \n",
       "3  0374157065  flu story great influenza pandemic 1918 search virus caused   \n",
       "4  0393045218  mummy urumchi                                                 \n",
       "\n",
       "            book_author  year_of_publication                publisher  \\\n",
       "0  mark_p_morford        2002.0               oxford_university_press   \n",
       "1  richard_bruce_wright  2001.0               harperflamingo_canada     \n",
       "2  carlo_deste           1991.0               harperperennial           \n",
       "3  gina_bari_kolata      1999.0               farrar_straus_giroux      \n",
       "4  e_j_w_barber          1999.0               w_w_norton_amp_company    \n",
       "\n",
       "                                                                                                                                                                                                                                                                                                                                                                                                                                                                                                                                                                                                                                                                                                                                                                                                    description  \n",
       "0  provides introduction classical myth placing addressed topic within historical context discussion archaeological evidence support mythical event theme portrayed literature art music film                                                                                                                                                                                                                                                                                                                                                                                                                                                                                                                                                                                                                    \n",
       "1  small town canada clara callan reluctantly take leave sister nora bound new york time growing threat fascism europe constant worry people escape reality radio movie meanwhile two sister vastly different personality yet inextricably linked shared past try find place within complex web social expectation young woman 1930s nora embarks glamorous career radiosoap opera star clara strong independentminded woman struggle observe traditional boundary small tightknit community without relinquishing dream love freedom adventure however thing arent simple appear noras letter eventually reveal life big city le exotic seems tranquil solitude claras life shattered series unforeseeable event twist fate require claras courage strength finally put seemingly unbreakable bond sister test  \n",
       "2  first time paperback outstanding military history offer dramatic new perspective allied campaign began invasion dday beach normandy nationa advertising military history                                                                                                                                                                                                                                                                                                                                                                                                                                                                                                                                                                                                                                      \n",
       "3  scientist recently discovered shard flu virus human remains frozen arctic tundra scrap tissue preserved government warehouse flu gina kolata reporter new york time unravels mystery lethal virus high drama great adventure story alaska norway street hong kong corridor white house kolata track race recover live pathogen probe fear impelled government policy delf history flu previous epidemic profile expert hot trail amateur woefully misguided detail science latest understanding mortal diseasebook jackettitle summary field provided blackwell north america inc right reserved                                                                                                                                                                                                              \n",
       "4  look incredibly wellpreserved ancient mummy found western china describes clothing appearance attempt reconstruct culture speculates caucasian could found way foot himalayan mountain                                                                                                                                                                                                                                                                                                                                                                                                                                                                                                                                                                                                                        "
      ]
     },
     "execution_count": 12,
     "metadata": {},
     "output_type": "execute_result"
    }
   ],
   "source": [
    "filtered_data[\"book_author\"] = filtered_data[\"book_author\"].str.strip().str.replace(' ','_')\n",
    "filtered_data[\"publisher\"] = filtered_data[\"publisher\"].str.strip().str.replace(' ','_')\n",
    "filtered_data.head()"
   ]
  },
  {
   "cell_type": "markdown",
   "metadata": {},
   "source": [
    "## Merge all the textual summary into a single column"
   ]
  },
  {
   "cell_type": "markdown",
   "metadata": {},
   "source": [
    "Combine all the book information related tokens such as authors, publisher, language etc into a single summary column."
   ]
  },
  {
   "cell_type": "code",
   "execution_count": 14,
   "metadata": {},
   "outputs": [
    {
     "data": {
      "text/plain": [
       "'lilian_jackson_braun putnam_pub_group'"
      ]
     },
     "execution_count": 14,
     "metadata": {},
     "output_type": "execute_result"
    }
   ],
   "source": [
    "filtered_data['bow'] = filtered_data[['book_author', 'publisher']].fillna('').agg(' '.join, axis=1)\n",
    "filtered_data.bow.iloc[123]"
   ]
  },
  {
   "cell_type": "code",
   "execution_count": 15,
   "metadata": {},
   "outputs": [],
   "source": [
    "filtered_data.to_csv('preprocessed_books_descriptions.csv', index=False)"
   ]
  }
 ],
 "metadata": {
  "kernelspec": {
   "display_name": "Python 3",
   "language": "python",
   "name": "python3"
  },
  "language_info": {
   "codemirror_mode": {
    "name": "ipython",
    "version": 3
   },
   "file_extension": ".py",
   "mimetype": "text/x-python",
   "name": "python",
   "nbconvert_exporter": "python",
   "pygments_lexer": "ipython3",
   "version": "3.9.6"
  }
 },
 "nbformat": 4,
 "nbformat_minor": 2
}
