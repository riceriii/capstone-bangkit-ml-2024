{
 "cells": [
  {
   "cell_type": "code",
   "execution_count": null,
   "metadata": {},
   "outputs": [],
   "source": [
    "import pandas as pd\n",
    "import requests\n",
    "from bs4 import BeautifulSoup\n",
    "from time import sleep"
   ]
  },
  {
   "cell_type": "code",
   "execution_count": null,
   "metadata": {},
   "outputs": [],
   "source": [
    "data = pd.read_csv('preprocessed_book.csv')\n",
    "data.head()"
   ]
  },
  {
   "cell_type": "code",
   "execution_count": null,
   "metadata": {},
   "outputs": [],
   "source": [
    "data.shape"
   ]
  },
  {
   "cell_type": "code",
   "execution_count": null,
   "metadata": {},
   "outputs": [],
   "source": [
    "def get_book_description(isbn):\n",
    "    url = f'https://www.googleapis.com/books/v1/volumes?q=isbn:{isbn}'\n",
    "    response = requests.get(url)\n",
    "    \n",
    "    if response.status_code == 200:\n",
    "        data = response.json()\n",
    "        if 'items' in data and len(data['items']) > 0:\n",
    "            volume_info = data['items'][0]['volumeInfo']\n",
    "            description = volume_info.get('description', \"Description not found\")\n",
    "            return description\n",
    "    return \"Description not found\""
   ]
  },
  {
   "cell_type": "code",
   "execution_count": null,
   "metadata": {},
   "outputs": [],
   "source": [
    "def process_chunk(chunk, chunk_index):\n",
    "    chunk['description'] = chunk['isbn'].apply(get_book_description)\n",
    "    chunk.to_csv(f'books_with_descriptions_chunk_{chunk_index}.csv', index=False)\n",
    "\n",
    "# Read the data in chunks\n",
    "chunk_size = 10000  # Adjust the chunk size as needed\n",
    "chunk_index = 0\n",
    "\n",
    "for chunk in pd.read_csv('preprocessed_book.csv', chunksize=chunk_size):\n",
    "    process_chunk(chunk, chunk_index)\n",
    "    chunk_index += 1\n",
    "    sleep(1)  # Sleep to prevent hitting the API rate limit\n",
    "\n",
    "# Combine all the chunks into a single DataFrame\n",
    "all_chunks = []\n",
    "for i in range(chunk_index):\n",
    "    all_chunks.append(pd.read_csv(f'books_with_descriptions_chunk_{i}.csv'))\n",
    "\n",
    "combined_data = pd.concat(all_chunks, ignore_index=True)\n",
    "combined_data.to_csv('books_with_descriptions.csv', index=False)"
   ]
  }
 ],
 "metadata": {
  "language_info": {
   "name": "python"
  }
 },
 "nbformat": 4,
 "nbformat_minor": 2
}
