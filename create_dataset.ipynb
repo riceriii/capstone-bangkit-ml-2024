{
 "cells": [
  {
   "cell_type": "markdown",
   "metadata": {},
   "source": [
    "# Create dataset for networks"
   ]
  },
  {
   "cell_type": "code",
   "execution_count": 3,
   "metadata": {},
   "outputs": [],
   "source": [
    "import pandas as pd\n",
    "import numpy as np\n",
    "import matplotlib.pyplot as plt\n",
    "import re"
   ]
  },
  {
   "cell_type": "markdown",
   "metadata": {},
   "source": [
    "## Merge the final full dataset with rating.csv and user.csv"
   ]
  },
  {
   "cell_type": "code",
   "execution_count": 4,
   "metadata": {},
   "outputs": [
    {
     "data": {
      "text/html": [
       "<div>\n",
       "<style scoped>\n",
       "    .dataframe tbody tr th:only-of-type {\n",
       "        vertical-align: middle;\n",
       "    }\n",
       "\n",
       "    .dataframe tbody tr th {\n",
       "        vertical-align: top;\n",
       "    }\n",
       "\n",
       "    .dataframe thead th {\n",
       "        text-align: right;\n",
       "    }\n",
       "</style>\n",
       "<table border=\"1\" class=\"dataframe\">\n",
       "  <thead>\n",
       "    <tr style=\"text-align: right;\">\n",
       "      <th></th>\n",
       "      <th>isbn</th>\n",
       "      <th>book_title</th>\n",
       "      <th>book_author</th>\n",
       "      <th>year_of_publication</th>\n",
       "      <th>publisher</th>\n",
       "      <th>description</th>\n",
       "      <th>bow</th>\n",
       "      <th>categories</th>\n",
       "      <th>page_count</th>\n",
       "      <th>User-ID</th>\n",
       "      <th>Book-Rating</th>\n",
       "    </tr>\n",
       "  </thead>\n",
       "  <tbody>\n",
       "    <tr>\n",
       "      <th>0</th>\n",
       "      <td>0195153448</td>\n",
       "      <td>classical mythology</td>\n",
       "      <td>mark_p_morford</td>\n",
       "      <td>2002.0</td>\n",
       "      <td>oxford_university_press</td>\n",
       "      <td>provides introduction classical myth placing a...</td>\n",
       "      <td>mark_p_morford oxford_university_press</td>\n",
       "      <td>social_science</td>\n",
       "      <td>808.0</td>\n",
       "      <td>2</td>\n",
       "      <td>0.0</td>\n",
       "    </tr>\n",
       "    <tr>\n",
       "      <th>1</th>\n",
       "      <td>0002005018</td>\n",
       "      <td>clara callan</td>\n",
       "      <td>richard_bruce_wright</td>\n",
       "      <td>2001.0</td>\n",
       "      <td>harperflamingo_canada</td>\n",
       "      <td>small town canada clara callan reluctantly tak...</td>\n",
       "      <td>richard_bruce_wright harperflamingo_canada</td>\n",
       "      <td>actresses</td>\n",
       "      <td>414.0</td>\n",
       "      <td>8</td>\n",
       "      <td>5.0</td>\n",
       "    </tr>\n",
       "    <tr>\n",
       "      <th>2</th>\n",
       "      <td>0002005018</td>\n",
       "      <td>clara callan</td>\n",
       "      <td>richard_bruce_wright</td>\n",
       "      <td>2001.0</td>\n",
       "      <td>harperflamingo_canada</td>\n",
       "      <td>small town canada clara callan reluctantly tak...</td>\n",
       "      <td>richard_bruce_wright harperflamingo_canada</td>\n",
       "      <td>actresses</td>\n",
       "      <td>414.0</td>\n",
       "      <td>11400</td>\n",
       "      <td>0.0</td>\n",
       "    </tr>\n",
       "    <tr>\n",
       "      <th>3</th>\n",
       "      <td>0002005018</td>\n",
       "      <td>clara callan</td>\n",
       "      <td>richard_bruce_wright</td>\n",
       "      <td>2001.0</td>\n",
       "      <td>harperflamingo_canada</td>\n",
       "      <td>small town canada clara callan reluctantly tak...</td>\n",
       "      <td>richard_bruce_wright harperflamingo_canada</td>\n",
       "      <td>actresses</td>\n",
       "      <td>414.0</td>\n",
       "      <td>11676</td>\n",
       "      <td>8.0</td>\n",
       "    </tr>\n",
       "    <tr>\n",
       "      <th>4</th>\n",
       "      <td>0002005018</td>\n",
       "      <td>clara callan</td>\n",
       "      <td>richard_bruce_wright</td>\n",
       "      <td>2001.0</td>\n",
       "      <td>harperflamingo_canada</td>\n",
       "      <td>small town canada clara callan reluctantly tak...</td>\n",
       "      <td>richard_bruce_wright harperflamingo_canada</td>\n",
       "      <td>actresses</td>\n",
       "      <td>414.0</td>\n",
       "      <td>41385</td>\n",
       "      <td>0.0</td>\n",
       "    </tr>\n",
       "  </tbody>\n",
       "</table>\n",
       "</div>"
      ],
      "text/plain": [
       "         isbn           book_title           book_author year_of_publication  \\\n",
       "0  0195153448  classical mythology        mark_p_morford              2002.0   \n",
       "1  0002005018         clara callan  richard_bruce_wright              2001.0   \n",
       "2  0002005018         clara callan  richard_bruce_wright              2001.0   \n",
       "3  0002005018         clara callan  richard_bruce_wright              2001.0   \n",
       "4  0002005018         clara callan  richard_bruce_wright              2001.0   \n",
       "\n",
       "                 publisher                                        description  \\\n",
       "0  oxford_university_press  provides introduction classical myth placing a...   \n",
       "1    harperflamingo_canada  small town canada clara callan reluctantly tak...   \n",
       "2    harperflamingo_canada  small town canada clara callan reluctantly tak...   \n",
       "3    harperflamingo_canada  small town canada clara callan reluctantly tak...   \n",
       "4    harperflamingo_canada  small town canada clara callan reluctantly tak...   \n",
       "\n",
       "                                          bow      categories  page_count  \\\n",
       "0      mark_p_morford oxford_university_press  social_science       808.0   \n",
       "1  richard_bruce_wright harperflamingo_canada       actresses       414.0   \n",
       "2  richard_bruce_wright harperflamingo_canada       actresses       414.0   \n",
       "3  richard_bruce_wright harperflamingo_canada       actresses       414.0   \n",
       "4  richard_bruce_wright harperflamingo_canada       actresses       414.0   \n",
       "\n",
       "  User-ID  Book-Rating  \n",
       "0       2          0.0  \n",
       "1       8          5.0  \n",
       "2   11400          0.0  \n",
       "3   11676          8.0  \n",
       "4   41385          0.0  "
      ]
     },
     "execution_count": 4,
     "metadata": {},
     "output_type": "execute_result"
    }
   ],
   "source": [
    "# Load the CSV files\n",
    "df1 = pd.read_csv('final_dataset.csv')\n",
    "df2 = pd.read_csv('/Users/chrysentiaclarissa/Downloads/Capstone ML/NLP Book Recommendation System/Book-Recommendation-System-main/raw dataset/Ratings.csv')\n",
    "\n",
    "# Merge the books with description and ratings dataset\n",
    "df3 = pd.merge(df1, df2, on='isbn', how='inner')\n",
    "df3.head()"
   ]
  },
  {
   "cell_type": "code",
   "execution_count": 5,
   "metadata": {},
   "outputs": [
    {
     "data": {
      "text/html": [
       "<div>\n",
       "<style scoped>\n",
       "    .dataframe tbody tr th:only-of-type {\n",
       "        vertical-align: middle;\n",
       "    }\n",
       "\n",
       "    .dataframe tbody tr th {\n",
       "        vertical-align: top;\n",
       "    }\n",
       "\n",
       "    .dataframe thead th {\n",
       "        text-align: right;\n",
       "    }\n",
       "</style>\n",
       "<table border=\"1\" class=\"dataframe\">\n",
       "  <thead>\n",
       "    <tr style=\"text-align: right;\">\n",
       "      <th></th>\n",
       "      <th>isbn</th>\n",
       "      <th>book_title</th>\n",
       "      <th>book_author</th>\n",
       "      <th>year_of_publication</th>\n",
       "      <th>publisher</th>\n",
       "      <th>description</th>\n",
       "      <th>bow</th>\n",
       "      <th>categories</th>\n",
       "      <th>page_count</th>\n",
       "      <th>User-ID</th>\n",
       "      <th>Book-Rating</th>\n",
       "      <th>Location</th>\n",
       "      <th>Age</th>\n",
       "    </tr>\n",
       "  </thead>\n",
       "  <tbody>\n",
       "    <tr>\n",
       "      <th>0</th>\n",
       "      <td>0195153448</td>\n",
       "      <td>classical mythology</td>\n",
       "      <td>mark_p_morford</td>\n",
       "      <td>2002.0</td>\n",
       "      <td>oxford_university_press</td>\n",
       "      <td>provides introduction classical myth placing a...</td>\n",
       "      <td>mark_p_morford oxford_university_press</td>\n",
       "      <td>social_science</td>\n",
       "      <td>808.0</td>\n",
       "      <td>2</td>\n",
       "      <td>0.0</td>\n",
       "      <td>stockton, california, usa</td>\n",
       "      <td>18.0</td>\n",
       "    </tr>\n",
       "    <tr>\n",
       "      <th>1</th>\n",
       "      <td>0002005018</td>\n",
       "      <td>clara callan</td>\n",
       "      <td>richard_bruce_wright</td>\n",
       "      <td>2001.0</td>\n",
       "      <td>harperflamingo_canada</td>\n",
       "      <td>small town canada clara callan reluctantly tak...</td>\n",
       "      <td>richard_bruce_wright harperflamingo_canada</td>\n",
       "      <td>actresses</td>\n",
       "      <td>414.0</td>\n",
       "      <td>8</td>\n",
       "      <td>5.0</td>\n",
       "      <td>timmins, ontario, canada</td>\n",
       "      <td>NaN</td>\n",
       "    </tr>\n",
       "    <tr>\n",
       "      <th>2</th>\n",
       "      <td>0002005018</td>\n",
       "      <td>clara callan</td>\n",
       "      <td>richard_bruce_wright</td>\n",
       "      <td>2001.0</td>\n",
       "      <td>harperflamingo_canada</td>\n",
       "      <td>small town canada clara callan reluctantly tak...</td>\n",
       "      <td>richard_bruce_wright harperflamingo_canada</td>\n",
       "      <td>actresses</td>\n",
       "      <td>414.0</td>\n",
       "      <td>11400</td>\n",
       "      <td>0.0</td>\n",
       "      <td>ottawa, ontario, canada</td>\n",
       "      <td>49.0</td>\n",
       "    </tr>\n",
       "    <tr>\n",
       "      <th>3</th>\n",
       "      <td>0002005018</td>\n",
       "      <td>clara callan</td>\n",
       "      <td>richard_bruce_wright</td>\n",
       "      <td>2001.0</td>\n",
       "      <td>harperflamingo_canada</td>\n",
       "      <td>small town canada clara callan reluctantly tak...</td>\n",
       "      <td>richard_bruce_wright harperflamingo_canada</td>\n",
       "      <td>actresses</td>\n",
       "      <td>414.0</td>\n",
       "      <td>11676</td>\n",
       "      <td>8.0</td>\n",
       "      <td>n/a, n/a, n/a</td>\n",
       "      <td>NaN</td>\n",
       "    </tr>\n",
       "    <tr>\n",
       "      <th>4</th>\n",
       "      <td>0002005018</td>\n",
       "      <td>clara callan</td>\n",
       "      <td>richard_bruce_wright</td>\n",
       "      <td>2001.0</td>\n",
       "      <td>harperflamingo_canada</td>\n",
       "      <td>small town canada clara callan reluctantly tak...</td>\n",
       "      <td>richard_bruce_wright harperflamingo_canada</td>\n",
       "      <td>actresses</td>\n",
       "      <td>414.0</td>\n",
       "      <td>41385</td>\n",
       "      <td>0.0</td>\n",
       "      <td>sudbury, ontario, canada</td>\n",
       "      <td>NaN</td>\n",
       "    </tr>\n",
       "  </tbody>\n",
       "</table>\n",
       "</div>"
      ],
      "text/plain": [
       "         isbn           book_title           book_author year_of_publication  \\\n",
       "0  0195153448  classical mythology        mark_p_morford              2002.0   \n",
       "1  0002005018         clara callan  richard_bruce_wright              2001.0   \n",
       "2  0002005018         clara callan  richard_bruce_wright              2001.0   \n",
       "3  0002005018         clara callan  richard_bruce_wright              2001.0   \n",
       "4  0002005018         clara callan  richard_bruce_wright              2001.0   \n",
       "\n",
       "                 publisher                                        description  \\\n",
       "0  oxford_university_press  provides introduction classical myth placing a...   \n",
       "1    harperflamingo_canada  small town canada clara callan reluctantly tak...   \n",
       "2    harperflamingo_canada  small town canada clara callan reluctantly tak...   \n",
       "3    harperflamingo_canada  small town canada clara callan reluctantly tak...   \n",
       "4    harperflamingo_canada  small town canada clara callan reluctantly tak...   \n",
       "\n",
       "                                          bow      categories  page_count  \\\n",
       "0      mark_p_morford oxford_university_press  social_science       808.0   \n",
       "1  richard_bruce_wright harperflamingo_canada       actresses       414.0   \n",
       "2  richard_bruce_wright harperflamingo_canada       actresses       414.0   \n",
       "3  richard_bruce_wright harperflamingo_canada       actresses       414.0   \n",
       "4  richard_bruce_wright harperflamingo_canada       actresses       414.0   \n",
       "\n",
       "  User-ID  Book-Rating                   Location   Age  \n",
       "0       2          0.0  stockton, california, usa  18.0  \n",
       "1       8          5.0   timmins, ontario, canada   NaN  \n",
       "2   11400          0.0    ottawa, ontario, canada  49.0  \n",
       "3   11676          8.0              n/a, n/a, n/a   NaN  \n",
       "4   41385          0.0   sudbury, ontario, canada   NaN  "
      ]
     },
     "execution_count": 5,
     "metadata": {},
     "output_type": "execute_result"
    }
   ],
   "source": [
    "df4 = pd.read_csv('/Users/chrysentiaclarissa/Downloads/Capstone ML/NLP Book Recommendation System/Book-Recommendation-System-main/raw dataset/Users.csv')\n",
    "\n",
    "# Convert 'User-ID' column to string in both DataFrames\n",
    "df3['User-ID'] = df3['User-ID'].astype(str)\n",
    "df4['User-ID'] = df4['User-ID'].astype(str)\n",
    "\n",
    "# Merge the (books with description and ratings) dataset and users dataset\n",
    "merged_df = pd.merge(df3, df4, on='User-ID', how='inner')\n",
    "merged_df.head()"
   ]
  },
  {
   "cell_type": "code",
   "execution_count": 6,
   "metadata": {},
   "outputs": [],
   "source": [
    "merged_df.rename(columns = {'User-ID':'userID', 'Book-Rating':'book_rating', 'Age':'age'}, inplace = True)"
   ]
  },
  {
   "cell_type": "code",
   "execution_count": 7,
   "metadata": {},
   "outputs": [],
   "source": [
    "# Drop the specified columns\n",
    "merged_df.drop(columns=['bow', 'Location', 'book_author', 'publisher'], inplace=True)"
   ]
  },
  {
   "cell_type": "code",
   "execution_count": 8,
   "metadata": {},
   "outputs": [
    {
     "data": {
      "text/html": [
       "<div>\n",
       "<style scoped>\n",
       "    .dataframe tbody tr th:only-of-type {\n",
       "        vertical-align: middle;\n",
       "    }\n",
       "\n",
       "    .dataframe tbody tr th {\n",
       "        vertical-align: top;\n",
       "    }\n",
       "\n",
       "    .dataframe thead th {\n",
       "        text-align: right;\n",
       "    }\n",
       "</style>\n",
       "<table border=\"1\" class=\"dataframe\">\n",
       "  <thead>\n",
       "    <tr style=\"text-align: right;\">\n",
       "      <th></th>\n",
       "      <th>isbn</th>\n",
       "      <th>book_title</th>\n",
       "      <th>year_of_publication</th>\n",
       "      <th>description</th>\n",
       "      <th>categories</th>\n",
       "      <th>page_count</th>\n",
       "      <th>userID</th>\n",
       "      <th>book_rating</th>\n",
       "      <th>age</th>\n",
       "    </tr>\n",
       "  </thead>\n",
       "  <tbody>\n",
       "    <tr>\n",
       "      <th>0</th>\n",
       "      <td>0195153448</td>\n",
       "      <td>classical mythology</td>\n",
       "      <td>2002.0</td>\n",
       "      <td>provides introduction classical myth placing a...</td>\n",
       "      <td>social_science</td>\n",
       "      <td>808.0</td>\n",
       "      <td>2</td>\n",
       "      <td>0.0</td>\n",
       "      <td>18.0</td>\n",
       "    </tr>\n",
       "    <tr>\n",
       "      <th>1</th>\n",
       "      <td>0002005018</td>\n",
       "      <td>clara callan</td>\n",
       "      <td>2001.0</td>\n",
       "      <td>small town canada clara callan reluctantly tak...</td>\n",
       "      <td>actresses</td>\n",
       "      <td>414.0</td>\n",
       "      <td>8</td>\n",
       "      <td>5.0</td>\n",
       "      <td>NaN</td>\n",
       "    </tr>\n",
       "    <tr>\n",
       "      <th>2</th>\n",
       "      <td>0002005018</td>\n",
       "      <td>clara callan</td>\n",
       "      <td>2001.0</td>\n",
       "      <td>small town canada clara callan reluctantly tak...</td>\n",
       "      <td>actresses</td>\n",
       "      <td>414.0</td>\n",
       "      <td>11400</td>\n",
       "      <td>0.0</td>\n",
       "      <td>49.0</td>\n",
       "    </tr>\n",
       "    <tr>\n",
       "      <th>3</th>\n",
       "      <td>0002005018</td>\n",
       "      <td>clara callan</td>\n",
       "      <td>2001.0</td>\n",
       "      <td>small town canada clara callan reluctantly tak...</td>\n",
       "      <td>actresses</td>\n",
       "      <td>414.0</td>\n",
       "      <td>11676</td>\n",
       "      <td>8.0</td>\n",
       "      <td>NaN</td>\n",
       "    </tr>\n",
       "    <tr>\n",
       "      <th>4</th>\n",
       "      <td>0002005018</td>\n",
       "      <td>clara callan</td>\n",
       "      <td>2001.0</td>\n",
       "      <td>small town canada clara callan reluctantly tak...</td>\n",
       "      <td>actresses</td>\n",
       "      <td>414.0</td>\n",
       "      <td>41385</td>\n",
       "      <td>0.0</td>\n",
       "      <td>NaN</td>\n",
       "    </tr>\n",
       "  </tbody>\n",
       "</table>\n",
       "</div>"
      ],
      "text/plain": [
       "         isbn           book_title year_of_publication  \\\n",
       "0  0195153448  classical mythology              2002.0   \n",
       "1  0002005018         clara callan              2001.0   \n",
       "2  0002005018         clara callan              2001.0   \n",
       "3  0002005018         clara callan              2001.0   \n",
       "4  0002005018         clara callan              2001.0   \n",
       "\n",
       "                                         description      categories  \\\n",
       "0  provides introduction classical myth placing a...  social_science   \n",
       "1  small town canada clara callan reluctantly tak...       actresses   \n",
       "2  small town canada clara callan reluctantly tak...       actresses   \n",
       "3  small town canada clara callan reluctantly tak...       actresses   \n",
       "4  small town canada clara callan reluctantly tak...       actresses   \n",
       "\n",
       "   page_count userID  book_rating   age  \n",
       "0       808.0      2          0.0  18.0  \n",
       "1       414.0      8          5.0   NaN  \n",
       "2       414.0  11400          0.0  49.0  \n",
       "3       414.0  11676          8.0   NaN  \n",
       "4       414.0  41385          0.0   NaN  "
      ]
     },
     "execution_count": 8,
     "metadata": {},
     "output_type": "execute_result"
    }
   ],
   "source": [
    "merged_df.head()"
   ]
  },
  {
   "cell_type": "code",
   "execution_count": 9,
   "metadata": {},
   "outputs": [
    {
     "data": {
      "text/plain": [
       "(164838, 9)"
      ]
     },
     "execution_count": 9,
     "metadata": {},
     "output_type": "execute_result"
    }
   ],
   "source": [
    "merged_df.shape"
   ]
  },
  {
   "cell_type": "code",
   "execution_count": 10,
   "metadata": {},
   "outputs": [
    {
     "data": {
      "text/plain": [
       "isbn                       0\n",
       "book_title               243\n",
       "year_of_publication        0\n",
       "description                0\n",
       "categories              1058\n",
       "page_count                86\n",
       "userID                     0\n",
       "book_rating                0\n",
       "age                    46540\n",
       "dtype: int64"
      ]
     },
     "execution_count": 10,
     "metadata": {},
     "output_type": "execute_result"
    }
   ],
   "source": [
    "merged_df.isnull().sum()"
   ]
  },
  {
   "cell_type": "markdown",
   "metadata": {},
   "source": [
    "## Handle the issue in age column"
   ]
  },
  {
   "cell_type": "code",
   "execution_count": 11,
   "metadata": {},
   "outputs": [
    {
     "data": {
      "text/plain": [
       "array([ 18.,  nan,  49.,  30.,  36.,  29.,  60.,  71.,  40.,  53.,  65.,\n",
       "        46.,  47.,  26.,  56.,  37.,  39.,  25.,  27.,  31.,  41.,  20.,\n",
       "        58.,  42.,  38.,  52.,  21.,  33.,  34.,  19.,  57.,  51.,  28.,\n",
       "        23.,  72.,  32.,  54.,  45.,  22.,  24.,  44.,  81.,  43.,  70.,\n",
       "        17.,  67.,  35.,  59.,  15.,  64.,  16.,  62.,  48.,  13.,  75.,\n",
       "        68.,  50.,  14.,  76.,  55., 128.,  61.,  69.,  73., 104.,  63.,\n",
       "        66.,   0.,  74.,  77.,  79.,   7., 116., 239., 103.,  12., 201.,\n",
       "       204.,  90.,  80.,   2.,  85.,   3.,   1.,  83., 151.,   8., 209.,\n",
       "        78., 100.,   9.,  10., 168.,  82., 133.,   4.,  97.,  11.,  84.,\n",
       "        93.,  99., 136., 152., 101.,  92.,   5., 141., 108., 148., 219.,\n",
       "       228.,  94., 124., 212., 220., 105., 244., 199.])"
      ]
     },
     "execution_count": 11,
     "metadata": {},
     "output_type": "execute_result"
    }
   ],
   "source": [
    "# Unique value in age\n",
    "merged_df['age'].unique()"
   ]
  },
  {
   "cell_type": "code",
   "execution_count": 12,
   "metadata": {},
   "outputs": [],
   "source": [
    "# Impute reasonable value for age less than 5 and more than 90 using median\n",
    "median_age = merged_df[(merged_df['age'] >= 5) & (merged_df['age'] <= 90)]['age'].median()\n",
    "merged_df.loc[(merged_df['age'] < 5) | (merged_df['age'] > 90), 'age'] = median_age"
   ]
  },
  {
   "cell_type": "code",
   "execution_count": 13,
   "metadata": {},
   "outputs": [
    {
     "data": {
      "text/plain": [
       "array([18., nan, 49., 30., 36., 29., 60., 71., 40., 53., 65., 46., 47.,\n",
       "       26., 56., 37., 39., 25., 27., 31., 41., 20., 58., 42., 38., 52.,\n",
       "       21., 33., 34., 19., 57., 51., 28., 23., 72., 32., 54., 45., 22.,\n",
       "       24., 44., 81., 43., 70., 17., 67., 35., 59., 15., 64., 16., 62.,\n",
       "       48., 13., 75., 68., 50., 14., 76., 55., 61., 69., 73., 63., 66.,\n",
       "       74., 77., 79.,  7., 12., 90., 80., 85., 83.,  8., 78.,  9., 10.,\n",
       "       82., 11., 84.,  5.])"
      ]
     },
     "execution_count": 13,
     "metadata": {},
     "output_type": "execute_result"
    }
   ],
   "source": [
    "# Checking unique value of age once again\n",
    "merged_df['age'].unique()"
   ]
  },
  {
   "cell_type": "code",
   "execution_count": 14,
   "metadata": {},
   "outputs": [],
   "source": [
    "# Calculate the mean age\n",
    "mean_age = round(merged_df['age'].mean())\n",
    "\n",
    "# Impute missing ages with the mean age\n",
    "merged_df['age'] = merged_df['age'].fillna(mean_age)"
   ]
  },
  {
   "cell_type": "code",
   "execution_count": 15,
   "metadata": {},
   "outputs": [
    {
     "data": {
      "text/plain": [
       "array([18., 37., 49., 30., 36., 29., 60., 71., 40., 53., 65., 46., 47.,\n",
       "       26., 56., 39., 25., 27., 31., 41., 20., 58., 42., 38., 52., 21.,\n",
       "       33., 34., 19., 57., 51., 28., 23., 72., 32., 54., 45., 22., 24.,\n",
       "       44., 81., 43., 70., 17., 67., 35., 59., 15., 64., 16., 62., 48.,\n",
       "       13., 75., 68., 50., 14., 76., 55., 61., 69., 73., 63., 66., 74.,\n",
       "       77., 79.,  7., 12., 90., 80., 85., 83.,  8., 78.,  9., 10., 82.,\n",
       "       11., 84.,  5.])"
      ]
     },
     "execution_count": 15,
     "metadata": {},
     "output_type": "execute_result"
    }
   ],
   "source": [
    "merged_df['age'].unique()"
   ]
  },
  {
   "cell_type": "code",
   "execution_count": 16,
   "metadata": {},
   "outputs": [
    {
     "data": {
      "text/plain": [
       "isbn                      0\n",
       "book_title              243\n",
       "year_of_publication       0\n",
       "description               0\n",
       "categories             1058\n",
       "page_count               86\n",
       "userID                    0\n",
       "book_rating               0\n",
       "age                       0\n",
       "dtype: int64"
      ]
     },
     "execution_count": 16,
     "metadata": {},
     "output_type": "execute_result"
    }
   ],
   "source": [
    "merged_df.isnull().sum()"
   ]
  },
  {
   "cell_type": "markdown",
   "metadata": {},
   "source": [
    "## Drop the rows with missing value"
   ]
  },
  {
   "cell_type": "code",
   "execution_count": 17,
   "metadata": {},
   "outputs": [],
   "source": [
    "# Drop rows with any missing values\n",
    "merged_df.dropna(inplace=True)"
   ]
  },
  {
   "cell_type": "code",
   "execution_count": 18,
   "metadata": {},
   "outputs": [
    {
     "data": {
      "text/plain": [
       "isbn                   0\n",
       "book_title             0\n",
       "year_of_publication    0\n",
       "description            0\n",
       "categories             0\n",
       "page_count             0\n",
       "userID                 0\n",
       "book_rating            0\n",
       "age                    0\n",
       "dtype: int64"
      ]
     },
     "execution_count": 18,
     "metadata": {},
     "output_type": "execute_result"
    }
   ],
   "source": [
    "# Check the missing value again\n",
    "merged_df.isnull().sum()"
   ]
  },
  {
   "cell_type": "code",
   "execution_count": 19,
   "metadata": {},
   "outputs": [
    {
     "data": {
      "text/plain": [
       "(163514, 9)"
      ]
     },
     "execution_count": 19,
     "metadata": {},
     "output_type": "execute_result"
    }
   ],
   "source": [
    "merged_df.shape"
   ]
  },
  {
   "cell_type": "markdown",
   "metadata": {},
   "source": [
    "## K-means clustering for categories"
   ]
  },
  {
   "cell_type": "code",
   "execution_count": 20,
   "metadata": {},
   "outputs": [
    {
     "data": {
      "text/plain": [
       "1581"
      ]
     },
     "execution_count": 20,
     "metadata": {},
     "output_type": "execute_result"
    }
   ],
   "source": [
    "# How many unique value in categories?\n",
    "merged_df['categories'].nunique()"
   ]
  },
  {
   "cell_type": "code",
   "execution_count": 21,
   "metadata": {},
   "outputs": [
    {
     "name": "stdout",
     "output_type": "stream",
     "text": [
      "categories\n",
      "fiction                                          105304\n",
      "juvenile_fiction                                   7271\n",
      "biography_&_autobiography                          5567\n",
      "american_fiction                                   1674\n",
      "humor                                              1600\n",
      "                                                  ...  \n",
      "hallucinogenic_drugs_and_religious_experience         1\n",
      "human_experimentation_in_medicine                     1\n",
      "mediums                                               1\n",
      "spirit_writings                                       1\n",
      "nuclear_energy                                        1\n",
      "Name: count, Length: 1581, dtype: int64\n"
     ]
    }
   ],
   "source": [
    "# Count frequency of each category\n",
    "category_counts = merged_df['categories'].explode().value_counts()\n",
    "print(category_counts)"
   ]
  },
  {
   "cell_type": "markdown",
   "metadata": {},
   "source": [
    "There are too many categories. Remove the categories that appear very rarely across the dataset."
   ]
  },
  {
   "cell_type": "code",
   "execution_count": 22,
   "metadata": {},
   "outputs": [
    {
     "name": "stderr",
     "output_type": "stream",
     "text": [
      "/Users/chrysentiaclarissa/Library/Python/3.9/lib/python/site-packages/urllib3/__init__.py:35: NotOpenSSLWarning: urllib3 v2 only supports OpenSSL 1.1.1+, currently the 'ssl' module is compiled with 'LibreSSL 2.8.3'. See: https://github.com/urllib3/urllib3/issues/3020\n",
      "  warnings.warn(\n"
     ]
    }
   ],
   "source": [
    "from sklearn.feature_extraction.text import TfidfVectorizer\n",
    "from sklearn.cluster import KMeans\n",
    "from sklearn.metrics import silhouette_score\n",
    "import matplotlib.pyplot as plt\n",
    "from gensim.models.doc2vec import Doc2Vec, TaggedDocument\n",
    "import nltk\n",
    "from nltk.tokenize import word_tokenize"
   ]
  },
  {
   "cell_type": "code",
   "execution_count": 23,
   "metadata": {},
   "outputs": [
    {
     "data": {
      "text/html": [
       "<div>\n",
       "<style scoped>\n",
       "    .dataframe tbody tr th:only-of-type {\n",
       "        vertical-align: middle;\n",
       "    }\n",
       "\n",
       "    .dataframe tbody tr th {\n",
       "        vertical-align: top;\n",
       "    }\n",
       "\n",
       "    .dataframe thead th {\n",
       "        text-align: right;\n",
       "    }\n",
       "</style>\n",
       "<table border=\"1\" class=\"dataframe\">\n",
       "  <thead>\n",
       "    <tr style=\"text-align: right;\">\n",
       "      <th></th>\n",
       "      <th>isbn</th>\n",
       "      <th>book_title</th>\n",
       "      <th>year_of_publication</th>\n",
       "      <th>description</th>\n",
       "      <th>categories</th>\n",
       "      <th>page_count</th>\n",
       "      <th>userID</th>\n",
       "      <th>book_rating</th>\n",
       "      <th>age</th>\n",
       "    </tr>\n",
       "  </thead>\n",
       "  <tbody>\n",
       "    <tr>\n",
       "      <th>0</th>\n",
       "      <td>0195153448</td>\n",
       "      <td>classical mythology</td>\n",
       "      <td>2002.0</td>\n",
       "      <td>provides introduction classical myth placing a...</td>\n",
       "      <td>social science</td>\n",
       "      <td>808.0</td>\n",
       "      <td>2</td>\n",
       "      <td>0.0</td>\n",
       "      <td>18.0</td>\n",
       "    </tr>\n",
       "    <tr>\n",
       "      <th>1</th>\n",
       "      <td>0002005018</td>\n",
       "      <td>clara callan</td>\n",
       "      <td>2001.0</td>\n",
       "      <td>small town canada clara callan reluctantly tak...</td>\n",
       "      <td>actresses</td>\n",
       "      <td>414.0</td>\n",
       "      <td>8</td>\n",
       "      <td>5.0</td>\n",
       "      <td>37.0</td>\n",
       "    </tr>\n",
       "    <tr>\n",
       "      <th>2</th>\n",
       "      <td>0002005018</td>\n",
       "      <td>clara callan</td>\n",
       "      <td>2001.0</td>\n",
       "      <td>small town canada clara callan reluctantly tak...</td>\n",
       "      <td>actresses</td>\n",
       "      <td>414.0</td>\n",
       "      <td>11400</td>\n",
       "      <td>0.0</td>\n",
       "      <td>49.0</td>\n",
       "    </tr>\n",
       "    <tr>\n",
       "      <th>3</th>\n",
       "      <td>0002005018</td>\n",
       "      <td>clara callan</td>\n",
       "      <td>2001.0</td>\n",
       "      <td>small town canada clara callan reluctantly tak...</td>\n",
       "      <td>actresses</td>\n",
       "      <td>414.0</td>\n",
       "      <td>11676</td>\n",
       "      <td>8.0</td>\n",
       "      <td>37.0</td>\n",
       "    </tr>\n",
       "    <tr>\n",
       "      <th>4</th>\n",
       "      <td>0002005018</td>\n",
       "      <td>clara callan</td>\n",
       "      <td>2001.0</td>\n",
       "      <td>small town canada clara callan reluctantly tak...</td>\n",
       "      <td>actresses</td>\n",
       "      <td>414.0</td>\n",
       "      <td>41385</td>\n",
       "      <td>0.0</td>\n",
       "      <td>37.0</td>\n",
       "    </tr>\n",
       "  </tbody>\n",
       "</table>\n",
       "</div>"
      ],
      "text/plain": [
       "         isbn           book_title year_of_publication  \\\n",
       "0  0195153448  classical mythology              2002.0   \n",
       "1  0002005018         clara callan              2001.0   \n",
       "2  0002005018         clara callan              2001.0   \n",
       "3  0002005018         clara callan              2001.0   \n",
       "4  0002005018         clara callan              2001.0   \n",
       "\n",
       "                                         description      categories  \\\n",
       "0  provides introduction classical myth placing a...  social science   \n",
       "1  small town canada clara callan reluctantly tak...       actresses   \n",
       "2  small town canada clara callan reluctantly tak...       actresses   \n",
       "3  small town canada clara callan reluctantly tak...       actresses   \n",
       "4  small town canada clara callan reluctantly tak...       actresses   \n",
       "\n",
       "   page_count userID  book_rating   age  \n",
       "0       808.0      2          0.0  18.0  \n",
       "1       414.0      8          5.0  37.0  \n",
       "2       414.0  11400          0.0  49.0  \n",
       "3       414.0  11676          8.0  37.0  \n",
       "4       414.0  41385          0.0  37.0  "
      ]
     },
     "execution_count": 23,
     "metadata": {},
     "output_type": "execute_result"
    }
   ],
   "source": [
    "def format_category(category):\n",
    "  # Replace underscores with spaces\n",
    "  formatted_category = category.replace('_', ' ')\n",
    "  return formatted_category\n",
    "\n",
    "merged_df['categories'] = merged_df['categories'].apply(format_category)\n",
    "merged_df.head()"
   ]
  },
  {
   "cell_type": "markdown",
   "metadata": {},
   "source": [
    "### Perform Doc2Vec to 'categories' and 'description'"
   ]
  },
  {
   "cell_type": "code",
   "execution_count": 24,
   "metadata": {},
   "outputs": [],
   "source": [
    "# Preprocess the columns\n",
    "merged_df['categories_tokens'] = merged_df['categories'].apply(lambda x: word_tokenize(x.lower()))\n",
    "merged_df['description_tokens'] = merged_df['description'].apply(lambda x: word_tokenize(x.lower()))"
   ]
  },
  {
   "cell_type": "code",
   "execution_count": 25,
   "metadata": {},
   "outputs": [],
   "source": [
    "# Prepare the TaggedDocument for Doc2Vec\n",
    "category_documents = [TaggedDocument(words, [i]) for i, words in enumerate(merged_df['categories_tokens'])]\n",
    "description_documents = [TaggedDocument(words, [i]) for i, words in enumerate(merged_df['description_tokens'])]"
   ]
  },
  {
   "cell_type": "code",
   "execution_count": 26,
   "metadata": {},
   "outputs": [],
   "source": [
    "# Train separate Doc2Vec models\n",
    "category_doc2vec_model = Doc2Vec(category_documents, vector_size=20, window=2, min_count=1, workers=4, epochs=50)\n",
    "description_doc2vec_model = Doc2Vec(description_documents, vector_size=20, window=2, min_count=1, workers=4, epochs=50)"
   ]
  },
  {
   "cell_type": "code",
   "execution_count": 28,
   "metadata": {},
   "outputs": [],
   "source": [
    "# Transform the preprocessed text data into vectors using separate models\n",
    "merged_df['doc2vec_categories'] = merged_df['categories_tokens'].apply(lambda x: category_doc2vec_model.infer_vector(x))\n",
    "merged_df['doc2vec_description'] = merged_df['description_tokens'].apply(lambda x: description_doc2vec_model.infer_vector(x))"
   ]
  },
  {
   "cell_type": "markdown",
   "metadata": {},
   "source": [
    "### Determine the optimal K"
   ]
  },
  {
   "cell_type": "code",
   "execution_count": 27,
   "metadata": {},
   "outputs": [
    {
     "ename": "KeyError",
     "evalue": "'doc2vec_categories'",
     "output_type": "error",
     "traceback": [
      "\u001b[0;31m---------------------------------------------------------------------------\u001b[0m",
      "\u001b[0;31mKeyError\u001b[0m                                  Traceback (most recent call last)",
      "File \u001b[0;32m~/Library/Python/3.9/lib/python/site-packages/pandas/core/indexes/base.py:3805\u001b[0m, in \u001b[0;36mIndex.get_loc\u001b[0;34m(self, key)\u001b[0m\n\u001b[1;32m   3804\u001b[0m \u001b[38;5;28;01mtry\u001b[39;00m:\n\u001b[0;32m-> 3805\u001b[0m     \u001b[38;5;28;01mreturn\u001b[39;00m \u001b[38;5;28;43mself\u001b[39;49m\u001b[38;5;241;43m.\u001b[39;49m\u001b[43m_engine\u001b[49m\u001b[38;5;241;43m.\u001b[39;49m\u001b[43mget_loc\u001b[49m\u001b[43m(\u001b[49m\u001b[43mcasted_key\u001b[49m\u001b[43m)\u001b[49m\n\u001b[1;32m   3806\u001b[0m \u001b[38;5;28;01mexcept\u001b[39;00m \u001b[38;5;167;01mKeyError\u001b[39;00m \u001b[38;5;28;01mas\u001b[39;00m err:\n",
      "File \u001b[0;32mindex.pyx:167\u001b[0m, in \u001b[0;36mpandas._libs.index.IndexEngine.get_loc\u001b[0;34m()\u001b[0m\n",
      "File \u001b[0;32mindex.pyx:196\u001b[0m, in \u001b[0;36mpandas._libs.index.IndexEngine.get_loc\u001b[0;34m()\u001b[0m\n",
      "File \u001b[0;32mpandas/_libs/hashtable_class_helper.pxi:7081\u001b[0m, in \u001b[0;36mpandas._libs.hashtable.PyObjectHashTable.get_item\u001b[0;34m()\u001b[0m\n",
      "File \u001b[0;32mpandas/_libs/hashtable_class_helper.pxi:7089\u001b[0m, in \u001b[0;36mpandas._libs.hashtable.PyObjectHashTable.get_item\u001b[0;34m()\u001b[0m\n",
      "\u001b[0;31mKeyError\u001b[0m: 'doc2vec_categories'",
      "\nThe above exception was the direct cause of the following exception:\n",
      "\u001b[0;31mKeyError\u001b[0m                                  Traceback (most recent call last)",
      "Cell \u001b[0;32mIn[27], line 2\u001b[0m\n\u001b[1;32m      1\u001b[0m \u001b[38;5;66;03m# Extract the vectors for clustering\u001b[39;00m\n\u001b[0;32m----> 2\u001b[0m cat_vectors \u001b[38;5;241m=\u001b[39m np\u001b[38;5;241m.\u001b[39marray(\u001b[43mmerged_df\u001b[49m\u001b[43m[\u001b[49m\u001b[38;5;124;43m'\u001b[39;49m\u001b[38;5;124;43mdoc2vec_categories\u001b[39;49m\u001b[38;5;124;43m'\u001b[39;49m\u001b[43m]\u001b[49m\u001b[38;5;241m.\u001b[39mtolist())\n",
      "File \u001b[0;32m~/Library/Python/3.9/lib/python/site-packages/pandas/core/frame.py:4090\u001b[0m, in \u001b[0;36mDataFrame.__getitem__\u001b[0;34m(self, key)\u001b[0m\n\u001b[1;32m   4088\u001b[0m \u001b[38;5;28;01mif\u001b[39;00m \u001b[38;5;28mself\u001b[39m\u001b[38;5;241m.\u001b[39mcolumns\u001b[38;5;241m.\u001b[39mnlevels \u001b[38;5;241m>\u001b[39m \u001b[38;5;241m1\u001b[39m:\n\u001b[1;32m   4089\u001b[0m     \u001b[38;5;28;01mreturn\u001b[39;00m \u001b[38;5;28mself\u001b[39m\u001b[38;5;241m.\u001b[39m_getitem_multilevel(key)\n\u001b[0;32m-> 4090\u001b[0m indexer \u001b[38;5;241m=\u001b[39m \u001b[38;5;28;43mself\u001b[39;49m\u001b[38;5;241;43m.\u001b[39;49m\u001b[43mcolumns\u001b[49m\u001b[38;5;241;43m.\u001b[39;49m\u001b[43mget_loc\u001b[49m\u001b[43m(\u001b[49m\u001b[43mkey\u001b[49m\u001b[43m)\u001b[49m\n\u001b[1;32m   4091\u001b[0m \u001b[38;5;28;01mif\u001b[39;00m is_integer(indexer):\n\u001b[1;32m   4092\u001b[0m     indexer \u001b[38;5;241m=\u001b[39m [indexer]\n",
      "File \u001b[0;32m~/Library/Python/3.9/lib/python/site-packages/pandas/core/indexes/base.py:3812\u001b[0m, in \u001b[0;36mIndex.get_loc\u001b[0;34m(self, key)\u001b[0m\n\u001b[1;32m   3807\u001b[0m     \u001b[38;5;28;01mif\u001b[39;00m \u001b[38;5;28misinstance\u001b[39m(casted_key, \u001b[38;5;28mslice\u001b[39m) \u001b[38;5;129;01mor\u001b[39;00m (\n\u001b[1;32m   3808\u001b[0m         \u001b[38;5;28misinstance\u001b[39m(casted_key, abc\u001b[38;5;241m.\u001b[39mIterable)\n\u001b[1;32m   3809\u001b[0m         \u001b[38;5;129;01mand\u001b[39;00m \u001b[38;5;28many\u001b[39m(\u001b[38;5;28misinstance\u001b[39m(x, \u001b[38;5;28mslice\u001b[39m) \u001b[38;5;28;01mfor\u001b[39;00m x \u001b[38;5;129;01min\u001b[39;00m casted_key)\n\u001b[1;32m   3810\u001b[0m     ):\n\u001b[1;32m   3811\u001b[0m         \u001b[38;5;28;01mraise\u001b[39;00m InvalidIndexError(key)\n\u001b[0;32m-> 3812\u001b[0m     \u001b[38;5;28;01mraise\u001b[39;00m \u001b[38;5;167;01mKeyError\u001b[39;00m(key) \u001b[38;5;28;01mfrom\u001b[39;00m \u001b[38;5;21;01merr\u001b[39;00m\n\u001b[1;32m   3813\u001b[0m \u001b[38;5;28;01mexcept\u001b[39;00m \u001b[38;5;167;01mTypeError\u001b[39;00m:\n\u001b[1;32m   3814\u001b[0m     \u001b[38;5;66;03m# If we have a listlike key, _check_indexing_error will raise\u001b[39;00m\n\u001b[1;32m   3815\u001b[0m     \u001b[38;5;66;03m#  InvalidIndexError. Otherwise we fall through and re-raise\u001b[39;00m\n\u001b[1;32m   3816\u001b[0m     \u001b[38;5;66;03m#  the TypeError.\u001b[39;00m\n\u001b[1;32m   3817\u001b[0m     \u001b[38;5;28mself\u001b[39m\u001b[38;5;241m.\u001b[39m_check_indexing_error(key)\n",
      "\u001b[0;31mKeyError\u001b[0m: 'doc2vec_categories'"
     ]
    }
   ],
   "source": [
    "# Extract the vectors for clustering\n",
    "cat_vectors = np.array(merged_df['doc2vec_categories'].tolist())"
   ]
  },
  {
   "cell_type": "code",
   "execution_count": 28,
   "metadata": {},
   "outputs": [],
   "source": [
    "def silhouette_scores(data):\n",
    "    silhouette_scores = []\n",
    "    for i in range(2, 11):  # Silhouette score is not defined for K=1\n",
    "        kmeans = KMeans(n_clusters=i, random_state=42)\n",
    "        cluster_labels = kmeans.fit_predict(data)\n",
    "        silhouette_avg = silhouette_score(data, cluster_labels)\n",
    "        silhouette_scores.append(silhouette_avg)\n",
    "    return silhouette_scores\n",
    "\n",
    "# Calculate silhouette scores for different values of K\n",
    "silhouette_scores = silhouette_scores(cat_vectors)"
   ]
  },
  {
   "cell_type": "code",
   "execution_count": 41,
   "metadata": {},
   "outputs": [
    {
     "data": {
      "text/plain": [
       "(163514, 20)"
      ]
     },
     "execution_count": 41,
     "metadata": {},
     "output_type": "execute_result"
    }
   ],
   "source": [
    "cat_vectors.shape"
   ]
  },
  {
   "cell_type": "code",
   "execution_count": 29,
   "metadata": {},
   "outputs": [
    {
     "data": {
      "image/png": "[encoded data removed]",
      "text/plain": [
       "<Figure size 640x480 with 1 Axes>"
      ]
     },
     "metadata": {},
     "output_type": "display_data"
    }
   ],
   "source": [
    "# Plot the silhouette scores\n",
    "plt.plot(range(2, 11), silhouette_scores)\n",
    "plt.title('Silhouette Method')\n",
    "plt.xlabel('Number of Clusters (K)')\n",
    "plt.ylabel('Silhouette Score')\n",
    "plt.show()"
   ]
  },
  {
   "cell_type": "markdown",
   "metadata": {},
   "source": [
    "### K-means modelling"
   ]
  },
  {
   "cell_type": "code",
   "execution_count": 30,
   "metadata": {},
   "outputs": [],
   "source": [
    "# KMeans model\n",
    "kmeans = KMeans(n_clusters = 4)\n",
    "merged_df['category_cluster'] = kmeans.fit_predict(cat_vectors)"
   ]
  },
  {
   "cell_type": "code",
   "execution_count": 31,
   "metadata": {},
   "outputs": [
    {
     "name": "stdout",
     "output_type": "stream",
     "text": [
      "            categories  category_cluster\n",
      "0       social science                 3\n",
      "1            actresses                 3\n",
      "2            actresses                 3\n",
      "3            actresses                 3\n",
      "4            actresses                 3\n",
      "...                ...               ...\n",
      "164833         fiction                 1\n",
      "164834         fiction                 1\n",
      "164835         fiction                 1\n",
      "164836         fiction                 1\n",
      "164837         fiction                 1\n",
      "\n",
      "[163514 rows x 2 columns]\n"
     ]
    }
   ],
   "source": [
    "# Display the resulting DataFrame\n",
    "print(merged_df[['categories', 'category_cluster']])"
   ]
  },
  {
   "cell_type": "code",
   "execution_count": 32,
   "metadata": {},
   "outputs": [
    {
     "data": {
      "text/plain": [
       "category_cluster\n",
       "1    63292\n",
       "2    55055\n",
       "3    31053\n",
       "0    14114\n",
       "Name: count, dtype: int64"
      ]
     },
     "execution_count": 32,
     "metadata": {},
     "output_type": "execute_result"
    }
   ],
   "source": [
    "merged_df['category_cluster'].value_counts()"
   ]
  },
  {
   "cell_type": "code",
   "execution_count": 33,
   "metadata": {},
   "outputs": [
    {
     "data": {
      "text/html": [
       "<div>\n",
       "<style scoped>\n",
       "    .dataframe tbody tr th:only-of-type {\n",
       "        vertical-align: middle;\n",
       "    }\n",
       "\n",
       "    .dataframe tbody tr th {\n",
       "        vertical-align: top;\n",
       "    }\n",
       "\n",
       "    .dataframe thead th {\n",
       "        text-align: right;\n",
       "    }\n",
       "</style>\n",
       "<table border=\"1\" class=\"dataframe\">\n",
       "  <thead>\n",
       "    <tr style=\"text-align: right;\">\n",
       "      <th></th>\n",
       "      <th>isbn</th>\n",
       "      <th>book_title</th>\n",
       "      <th>year_of_publication</th>\n",
       "      <th>description</th>\n",
       "      <th>categories</th>\n",
       "      <th>page_count</th>\n",
       "      <th>userID</th>\n",
       "      <th>book_rating</th>\n",
       "      <th>age</th>\n",
       "      <th>categories_tokens</th>\n",
       "      <th>description_tokens</th>\n",
       "      <th>doc2vec_categories</th>\n",
       "      <th>doc2vec_description</th>\n",
       "      <th>category_cluster</th>\n",
       "    </tr>\n",
       "  </thead>\n",
       "  <tbody>\n",
       "    <tr>\n",
       "      <th>0</th>\n",
       "      <td>0195153448</td>\n",
       "      <td>classical mythology</td>\n",
       "      <td>2002.0</td>\n",
       "      <td>provides introduction classical myth placing a...</td>\n",
       "      <td>social science</td>\n",
       "      <td>808.0</td>\n",
       "      <td>2</td>\n",
       "      <td>0.0</td>\n",
       "      <td>18.0</td>\n",
       "      <td>[social, science]</td>\n",
       "      <td>[provides, introduction, classical, myth, plac...</td>\n",
       "      <td>[0.17724226, -0.025548164, -0.07163972, 0.0970...</td>\n",
       "      <td>[0.406688, 0.3585072, 1.3337185, -1.1271342, -...</td>\n",
       "      <td>3</td>\n",
       "    </tr>\n",
       "    <tr>\n",
       "      <th>1</th>\n",
       "      <td>0002005018</td>\n",
       "      <td>clara callan</td>\n",
       "      <td>2001.0</td>\n",
       "      <td>small town canada clara callan reluctantly tak...</td>\n",
       "      <td>actresses</td>\n",
       "      <td>414.0</td>\n",
       "      <td>8</td>\n",
       "      <td>5.0</td>\n",
       "      <td>37.0</td>\n",
       "      <td>[actresses]</td>\n",
       "      <td>[small, town, canada, clara, callan, reluctant...</td>\n",
       "      <td>[-0.17754874, 0.29921842, 0.13401474, 0.109431...</td>\n",
       "      <td>[0.3871521, -0.37511307, 1.1218337, -0.6350674...</td>\n",
       "      <td>3</td>\n",
       "    </tr>\n",
       "    <tr>\n",
       "      <th>2</th>\n",
       "      <td>0002005018</td>\n",
       "      <td>clara callan</td>\n",
       "      <td>2001.0</td>\n",
       "      <td>small town canada clara callan reluctantly tak...</td>\n",
       "      <td>actresses</td>\n",
       "      <td>414.0</td>\n",
       "      <td>11400</td>\n",
       "      <td>0.0</td>\n",
       "      <td>49.0</td>\n",
       "      <td>[actresses]</td>\n",
       "      <td>[small, town, canada, clara, callan, reluctant...</td>\n",
       "      <td>[-0.14406453, 0.35097718, 0.17540002, 0.041971...</td>\n",
       "      <td>[0.48701698, -0.3339445, 0.8510677, -0.3864715...</td>\n",
       "      <td>3</td>\n",
       "    </tr>\n",
       "    <tr>\n",
       "      <th>3</th>\n",
       "      <td>0002005018</td>\n",
       "      <td>clara callan</td>\n",
       "      <td>2001.0</td>\n",
       "      <td>small town canada clara callan reluctantly tak...</td>\n",
       "      <td>actresses</td>\n",
       "      <td>414.0</td>\n",
       "      <td>11676</td>\n",
       "      <td>8.0</td>\n",
       "      <td>37.0</td>\n",
       "      <td>[actresses]</td>\n",
       "      <td>[small, town, canada, clara, callan, reluctant...</td>\n",
       "      <td>[-0.17291078, 0.3294236, 0.1421148, 0.14924079...</td>\n",
       "      <td>[0.422265, -0.5055285, 0.9891314, -0.5679308, ...</td>\n",
       "      <td>3</td>\n",
       "    </tr>\n",
       "    <tr>\n",
       "      <th>4</th>\n",
       "      <td>0002005018</td>\n",
       "      <td>clara callan</td>\n",
       "      <td>2001.0</td>\n",
       "      <td>small town canada clara callan reluctantly tak...</td>\n",
       "      <td>actresses</td>\n",
       "      <td>414.0</td>\n",
       "      <td>41385</td>\n",
       "      <td>0.0</td>\n",
       "      <td>37.0</td>\n",
       "      <td>[actresses]</td>\n",
       "      <td>[small, town, canada, clara, callan, reluctant...</td>\n",
       "      <td>[-0.16886835, 0.3728295, 0.18178052, 0.0934242...</td>\n",
       "      <td>[0.7002524, -0.41130117, 1.0479298, -0.5149132...</td>\n",
       "      <td>3</td>\n",
       "    </tr>\n",
       "  </tbody>\n",
       "</table>\n",
       "</div>"
      ],
      "text/plain": [
       "         isbn           book_title year_of_publication  \\\n",
       "0  0195153448  classical mythology              2002.0   \n",
       "1  0002005018         clara callan              2001.0   \n",
       "2  0002005018         clara callan              2001.0   \n",
       "3  0002005018         clara callan              2001.0   \n",
       "4  0002005018         clara callan              2001.0   \n",
       "\n",
       "                                         description      categories  \\\n",
       "0  provides introduction classical myth placing a...  social science   \n",
       "1  small town canada clara callan reluctantly tak...       actresses   \n",
       "2  small town canada clara callan reluctantly tak...       actresses   \n",
       "3  small town canada clara callan reluctantly tak...       actresses   \n",
       "4  small town canada clara callan reluctantly tak...       actresses   \n",
       "\n",
       "   page_count userID  book_rating   age  categories_tokens  \\\n",
       "0       808.0      2          0.0  18.0  [social, science]   \n",
       "1       414.0      8          5.0  37.0        [actresses]   \n",
       "2       414.0  11400          0.0  49.0        [actresses]   \n",
       "3       414.0  11676          8.0  37.0        [actresses]   \n",
       "4       414.0  41385          0.0  37.0        [actresses]   \n",
       "\n",
       "                                  description_tokens  \\\n",
       "0  [provides, introduction, classical, myth, plac...   \n",
       "1  [small, town, canada, clara, callan, reluctant...   \n",
       "2  [small, town, canada, clara, callan, reluctant...   \n",
       "3  [small, town, canada, clara, callan, reluctant...   \n",
       "4  [small, town, canada, clara, callan, reluctant...   \n",
       "\n",
       "                                  doc2vec_categories  \\\n",
       "0  [0.17724226, -0.025548164, -0.07163972, 0.0970...   \n",
       "1  [-0.17754874, 0.29921842, 0.13401474, 0.109431...   \n",
       "2  [-0.14406453, 0.35097718, 0.17540002, 0.041971...   \n",
       "3  [-0.17291078, 0.3294236, 0.1421148, 0.14924079...   \n",
       "4  [-0.16886835, 0.3728295, 0.18178052, 0.0934242...   \n",
       "\n",
       "                                 doc2vec_description  category_cluster  \n",
       "0  [0.406688, 0.3585072, 1.3337185, -1.1271342, -...                 3  \n",
       "1  [0.3871521, -0.37511307, 1.1218337, -0.6350674...                 3  \n",
       "2  [0.48701698, -0.3339445, 0.8510677, -0.3864715...                 3  \n",
       "3  [0.422265, -0.5055285, 0.9891314, -0.5679308, ...                 3  \n",
       "4  [0.7002524, -0.41130117, 1.0479298, -0.5149132...                 3  "
      ]
     },
     "execution_count": 33,
     "metadata": {},
     "output_type": "execute_result"
    }
   ],
   "source": [
    "merged_df.head()"
   ]
  },
  {
   "cell_type": "code",
   "execution_count": 72,
   "metadata": {},
   "outputs": [
    {
     "data": {
      "text/plain": [
       "isbn                   0\n",
       "book_title             0\n",
       "year_of_publication    0\n",
       "description            0\n",
       "categories             0\n",
       "page_count             0\n",
       "userID                 0\n",
       "book_rating            0\n",
       "age                    0\n",
       "categories_tokens      0\n",
       "description_tokens     0\n",
       "doc2vec_categories     0\n",
       "doc2vec_description    0\n",
       "category_cluster       0\n",
       "dtype: int64"
      ]
     },
     "execution_count": 72,
     "metadata": {},
     "output_type": "execute_result"
    }
   ],
   "source": [
    "merged_df.isnull().sum()"
   ]
  },
  {
   "cell_type": "code",
   "execution_count": 40,
   "metadata": {},
   "outputs": [],
   "source": [
    "merged_df.to_csv('merged.csv', index=False)"
   ]
  },
  {
   "cell_type": "markdown",
   "metadata": {},
   "source": [
    "## Create dataset for user network"
   ]
  },
  {
   "cell_type": "code",
   "execution_count": 91,
   "metadata": {},
   "outputs": [
    {
     "name": "stdout",
     "output_type": "stream",
     "text": [
      "        0  1  2   3  mean_page_count   age\n",
      "userID                                    \n",
      "10      0  0  0   1         0.000000  26.0\n",
      "100004  0  2  2   1       304.800000  35.0\n",
      "100009  0  7  1   2       467.300000  49.0\n",
      "10001   1  1  2   4       337.250000  47.0\n",
      "100010  0  1  1   0       130.000000  37.0\n",
      "...    .. .. ..  ..              ...   ...\n",
      "99954   0  0  1   1       378.000000  39.0\n",
      "99955   0  8  8  13       265.000000  14.0\n",
      "99968   0  1  0   0       296.000000  32.0\n",
      "99973   0  0  1   0       292.000000  34.0\n",
      "99996   1  4  2   2       318.777778  43.0\n",
      "\n",
      "[33202 rows x 6 columns]\n"
     ]
    }
   ],
   "source": [
    "### USE THIS ONE AND PROCEED TO JUST SAVE AFTER THIS\n",
    "\n",
    "# Calculate the count of each genre cluster for each user\n",
    "cluster_counts = merged_df.pivot_table(index='userID', columns='category_cluster', aggfunc='size', fill_value=0)\n",
    "\n",
    "# Calculate the mean page count for each user\n",
    "mean_page_count = merged_df.groupby('userID')['page_count'].mean()\n",
    "\n",
    "# Get the age for each user (assuming age is constant per user)\n",
    "age = merged_df.groupby('userID')['age'].first()\n",
    "\n",
    "# Combine the results\n",
    "users = cluster_counts.join(mean_page_count.rename('mean_page_count')).join(age.rename('age'))\n",
    "print(users)"
   ]
  },
  {
   "cell_type": "code",
   "execution_count": 1,
   "metadata": {},
   "outputs": [
    {
     "ename": "NameError",
     "evalue": "name 'merged_df' is not defined",
     "output_type": "error",
     "traceback": [
      "\u001b[0;31m---------------------------------------------------------------------------\u001b[0m",
      "\u001b[0;31mNameError\u001b[0m                                 Traceback (most recent call last)",
      "Cell \u001b[0;32mIn[1], line 5\u001b[0m\n\u001b[1;32m      1\u001b[0m \u001b[38;5;66;03m### DO NOT USE THIS ONE\u001b[39;00m\n\u001b[1;32m      2\u001b[0m \n\u001b[1;32m      3\u001b[0m \u001b[38;5;66;03m# Data frame needed for users\u001b[39;00m\n\u001b[1;32m      4\u001b[0m keep_columns \u001b[38;5;241m=\u001b[39m [\u001b[38;5;124m'\u001b[39m\u001b[38;5;124muserID\u001b[39m\u001b[38;5;124m'\u001b[39m, \u001b[38;5;124m'\u001b[39m\u001b[38;5;124misbn\u001b[39m\u001b[38;5;124m'\u001b[39m, \u001b[38;5;124m'\u001b[39m\u001b[38;5;124mcategories\u001b[39m\u001b[38;5;124m'\u001b[39m, \u001b[38;5;124m'\u001b[39m\u001b[38;5;124mcategory_cluster\u001b[39m\u001b[38;5;124m'\u001b[39m, \u001b[38;5;124m'\u001b[39m\u001b[38;5;124mage\u001b[39m\u001b[38;5;124m'\u001b[39m]\n\u001b[0;32m----> 5\u001b[0m users \u001b[38;5;241m=\u001b[39m \u001b[43mmerged_df\u001b[49m[keep_columns]\n\u001b[1;32m      7\u001b[0m \u001b[38;5;66;03m# One-hot encode the category clusters\u001b[39;00m\n\u001b[1;32m      8\u001b[0m category_clusters \u001b[38;5;241m=\u001b[39m pd\u001b[38;5;241m.\u001b[39mget_dummies(merged_df[\u001b[38;5;124m'\u001b[39m\u001b[38;5;124mcategory_cluster\u001b[39m\u001b[38;5;124m'\u001b[39m], prefix\u001b[38;5;241m=\u001b[39m\u001b[38;5;124m'\u001b[39m\u001b[38;5;124mcluster\u001b[39m\u001b[38;5;124m'\u001b[39m)\n",
      "\u001b[0;31mNameError\u001b[0m: name 'merged_df' is not defined"
     ]
    }
   ],
   "source": [
    "### DO NOT USE THIS ONE\n",
    "\n",
    "# Data frame needed for users\n",
    "keep_columns = ['userID', 'isbn', 'categories', 'category_cluster', 'page_count', 'age']\n",
    "users = merged_df[keep_columns]\n",
    "\n",
    "# One-hot encode the category clusters\n",
    "category_clusters = pd.get_dummies(merged_df['category_cluster'], prefix='cluster')\n",
    "\n",
    "# Concatenate the one-hot encoded clusters with the original dataframe\n",
    "users = pd.concat([users, category_clusters], axis=1)\n",
    "\n",
    "# Convert boolean True/False to integers 1/0\n",
    "users[category_clusters.columns] = users[category_clusters.columns].astype(int)\n",
    "\n",
    "# Display the dataframe\n",
    "users.head()"
   ]
  },
  {
   "cell_type": "code",
   "execution_count": 56,
   "metadata": {},
   "outputs": [
    {
     "data": {
      "text/html": [
       "<div>\n",
       "<style scoped>\n",
       "    .dataframe tbody tr th:only-of-type {\n",
       "        vertical-align: middle;\n",
       "    }\n",
       "\n",
       "    .dataframe tbody tr th {\n",
       "        vertical-align: top;\n",
       "    }\n",
       "\n",
       "    .dataframe thead th {\n",
       "        text-align: right;\n",
       "    }\n",
       "</style>\n",
       "<table border=\"1\" class=\"dataframe\">\n",
       "  <thead>\n",
       "    <tr style=\"text-align: right;\">\n",
       "      <th></th>\n",
       "      <th>userID</th>\n",
       "      <th>isbn</th>\n",
       "      <th>cluster_0</th>\n",
       "      <th>cluster_1</th>\n",
       "      <th>cluster_2</th>\n",
       "      <th>cluster_3</th>\n",
       "    </tr>\n",
       "  </thead>\n",
       "  <tbody>\n",
       "    <tr>\n",
       "      <th>0</th>\n",
       "      <td>2</td>\n",
       "      <td>0195153448</td>\n",
       "      <td>0</td>\n",
       "      <td>0</td>\n",
       "      <td>0</td>\n",
       "      <td>1</td>\n",
       "    </tr>\n",
       "    <tr>\n",
       "      <th>1</th>\n",
       "      <td>8</td>\n",
       "      <td>0002005018</td>\n",
       "      <td>0</td>\n",
       "      <td>0</td>\n",
       "      <td>0</td>\n",
       "      <td>1</td>\n",
       "    </tr>\n",
       "    <tr>\n",
       "      <th>2</th>\n",
       "      <td>11400</td>\n",
       "      <td>0002005018</td>\n",
       "      <td>0</td>\n",
       "      <td>0</td>\n",
       "      <td>0</td>\n",
       "      <td>1</td>\n",
       "    </tr>\n",
       "    <tr>\n",
       "      <th>3</th>\n",
       "      <td>11676</td>\n",
       "      <td>0002005018</td>\n",
       "      <td>0</td>\n",
       "      <td>0</td>\n",
       "      <td>0</td>\n",
       "      <td>1</td>\n",
       "    </tr>\n",
       "    <tr>\n",
       "      <th>4</th>\n",
       "      <td>41385</td>\n",
       "      <td>0002005018</td>\n",
       "      <td>0</td>\n",
       "      <td>0</td>\n",
       "      <td>0</td>\n",
       "      <td>1</td>\n",
       "    </tr>\n",
       "  </tbody>\n",
       "</table>\n",
       "</div>"
      ],
      "text/plain": [
       "  userID        isbn  cluster_0  cluster_1  cluster_2  cluster_3\n",
       "0      2  0195153448          0          0          0          1\n",
       "1      8  0002005018          0          0          0          1\n",
       "2  11400  0002005018          0          0          0          1\n",
       "3  11676  0002005018          0          0          0          1\n",
       "4  41385  0002005018          0          0          0          1"
      ]
     },
     "execution_count": 56,
     "metadata": {},
     "output_type": "execute_result"
    }
   ],
   "source": [
    "# Select the necessary columns: userID, ISBN, and the one-hot encoded category clusters\n",
    "final_columns = ['userID', 'isbn'] + category_clusters.columns.tolist()\n",
    "users = users[final_columns]\n",
    "users.head()"
   ]
  },
  {
   "cell_type": "code",
   "execution_count": 57,
   "metadata": {},
   "outputs": [
    {
     "data": {
      "text/plain": [
       "(163514, 6)"
      ]
     },
     "execution_count": 57,
     "metadata": {},
     "output_type": "execute_result"
    }
   ],
   "source": [
    "users.shape"
   ]
  },
  {
   "cell_type": "code",
   "execution_count": 58,
   "metadata": {},
   "outputs": [
    {
     "name": "stdout",
     "output_type": "stream",
     "text": [
      "userID\n",
      "11676     1722\n",
      "35859      870\n",
      "153662     647\n",
      "198711     552\n",
      "76352      533\n",
      "          ... \n",
      "241268       2\n",
      "15228        2\n",
      "218421       2\n",
      "33432        2\n",
      "232410       2\n",
      "Name: count, Length: 13641, dtype: int64\n"
     ]
    }
   ],
   "source": [
    "# Count the number of occurrences of each userID\n",
    "user_id_counts = users['userID'].value_counts()\n",
    "\n",
    "# Filter to show only userID values that appear more than once\n",
    "duplicate_user_ids = user_id_counts[user_id_counts > 1]\n",
    "print(duplicate_user_ids)"
   ]
  },
  {
   "cell_type": "markdown",
   "metadata": {},
   "source": [
    "### Save the dataset to csv file"
   ]
  },
  {
   "cell_type": "code",
   "execution_count": 92,
   "metadata": {},
   "outputs": [],
   "source": [
    "# Save the data\n",
    "users.to_csv('users.csv', index=False)"
   ]
  },
  {
   "cell_type": "markdown",
   "metadata": {},
   "source": [
    "## Create dataset for book network"
   ]
  },
  {
   "cell_type": "code",
   "execution_count": 86,
   "metadata": {},
   "outputs": [
    {
     "data": {
      "text/html": [
       "<div>\n",
       "<style scoped>\n",
       "    .dataframe tbody tr th:only-of-type {\n",
       "        vertical-align: middle;\n",
       "    }\n",
       "\n",
       "    .dataframe tbody tr th {\n",
       "        vertical-align: top;\n",
       "    }\n",
       "\n",
       "    .dataframe thead th {\n",
       "        text-align: right;\n",
       "    }\n",
       "</style>\n",
       "<table border=\"1\" class=\"dataframe\">\n",
       "  <thead>\n",
       "    <tr style=\"text-align: right;\">\n",
       "      <th></th>\n",
       "      <th>isbn</th>\n",
       "      <th>doc2vec_categories</th>\n",
       "      <th>doc2vec_description</th>\n",
       "      <th>page_count</th>\n",
       "    </tr>\n",
       "  </thead>\n",
       "  <tbody>\n",
       "    <tr>\n",
       "      <th>0</th>\n",
       "      <td>0195153448</td>\n",
       "      <td>[0.17724226, -0.025548164, -0.07163972, 0.0970...</td>\n",
       "      <td>[0.406688, 0.3585072, 1.3337185, -1.1271342, -...</td>\n",
       "      <td>808.0</td>\n",
       "    </tr>\n",
       "    <tr>\n",
       "      <th>1</th>\n",
       "      <td>0002005018</td>\n",
       "      <td>[-0.17754874, 0.29921842, 0.13401474, 0.109431...</td>\n",
       "      <td>[0.3871521, -0.37511307, 1.1218337, -0.6350674...</td>\n",
       "      <td>414.0</td>\n",
       "    </tr>\n",
       "    <tr>\n",
       "      <th>2</th>\n",
       "      <td>0002005018</td>\n",
       "      <td>[-0.14406453, 0.35097718, 0.17540002, 0.041971...</td>\n",
       "      <td>[0.48701698, -0.3339445, 0.8510677, -0.3864715...</td>\n",
       "      <td>414.0</td>\n",
       "    </tr>\n",
       "    <tr>\n",
       "      <th>3</th>\n",
       "      <td>0002005018</td>\n",
       "      <td>[-0.17291078, 0.3294236, 0.1421148, 0.14924079...</td>\n",
       "      <td>[0.422265, -0.5055285, 0.9891314, -0.5679308, ...</td>\n",
       "      <td>414.0</td>\n",
       "    </tr>\n",
       "    <tr>\n",
       "      <th>4</th>\n",
       "      <td>0002005018</td>\n",
       "      <td>[-0.16886835, 0.3728295, 0.18178052, 0.0934242...</td>\n",
       "      <td>[0.7002524, -0.41130117, 1.0479298, -0.5149132...</td>\n",
       "      <td>414.0</td>\n",
       "    </tr>\n",
       "  </tbody>\n",
       "</table>\n",
       "</div>"
      ],
      "text/plain": [
       "         isbn                                 doc2vec_categories  \\\n",
       "0  0195153448  [0.17724226, -0.025548164, -0.07163972, 0.0970...   \n",
       "1  0002005018  [-0.17754874, 0.29921842, 0.13401474, 0.109431...   \n",
       "2  0002005018  [-0.14406453, 0.35097718, 0.17540002, 0.041971...   \n",
       "3  0002005018  [-0.17291078, 0.3294236, 0.1421148, 0.14924079...   \n",
       "4  0002005018  [-0.16886835, 0.3728295, 0.18178052, 0.0934242...   \n",
       "\n",
       "                                 doc2vec_description  page_count  \n",
       "0  [0.406688, 0.3585072, 1.3337185, -1.1271342, -...       808.0  \n",
       "1  [0.3871521, -0.37511307, 1.1218337, -0.6350674...       414.0  \n",
       "2  [0.48701698, -0.3339445, 0.8510677, -0.3864715...       414.0  \n",
       "3  [0.422265, -0.5055285, 0.9891314, -0.5679308, ...       414.0  \n",
       "4  [0.7002524, -0.41130117, 1.0479298, -0.5149132...       414.0  "
      ]
     },
     "execution_count": 86,
     "metadata": {},
     "output_type": "execute_result"
    }
   ],
   "source": [
    "# Specify the columns you want to keep\n",
    "keep_columns = ['isbn', 'doc2vec_categories', 'doc2vec_description', 'page_count']\n",
    "\n",
    "# Create the new subset DataFrame with the specified columns\n",
    "books = merged_df[keep_columns]\n",
    "books.head()"
   ]
  },
  {
   "cell_type": "code",
   "execution_count": 87,
   "metadata": {},
   "outputs": [
    {
     "name": "stderr",
     "output_type": "stream",
     "text": [
      "/var/folders/p9/mn6vkky11nqc53tyvzjg4xj80000gn/T/ipykernel_40321/1697010463.py:2: SettingWithCopyWarning: \n",
      "A value is trying to be set on a copy of a slice from a DataFrame.\n",
      "Try using .loc[row_indexer,col_indexer] = value instead\n",
      "\n",
      "See the caveats in the documentation: https://pandas.pydata.org/pandas-docs/stable/user_guide/indexing.html#returning-a-view-versus-a-copy\n",
      "  books['doc2vec_categories'] = books['doc2vec_categories'].apply(lambda x: list(x))\n",
      "/var/folders/p9/mn6vkky11nqc53tyvzjg4xj80000gn/T/ipykernel_40321/1697010463.py:3: SettingWithCopyWarning: \n",
      "A value is trying to be set on a copy of a slice from a DataFrame.\n",
      "Try using .loc[row_indexer,col_indexer] = value instead\n",
      "\n",
      "See the caveats in the documentation: https://pandas.pydata.org/pandas-docs/stable/user_guide/indexing.html#returning-a-view-versus-a-copy\n",
      "  books['doc2vec_description'] = books['doc2vec_description'].apply(lambda x: list(x))\n"
     ]
    },
    {
     "data": {
      "text/html": [
       "<div>\n",
       "<style scoped>\n",
       "    .dataframe tbody tr th:only-of-type {\n",
       "        vertical-align: middle;\n",
       "    }\n",
       "\n",
       "    .dataframe tbody tr th {\n",
       "        vertical-align: top;\n",
       "    }\n",
       "\n",
       "    .dataframe thead th {\n",
       "        text-align: right;\n",
       "    }\n",
       "</style>\n",
       "<table border=\"1\" class=\"dataframe\">\n",
       "  <thead>\n",
       "    <tr style=\"text-align: right;\">\n",
       "      <th></th>\n",
       "      <th>isbn</th>\n",
       "      <th>cat_vec_1</th>\n",
       "      <th>cat_vec_2</th>\n",
       "      <th>cat_vec_3</th>\n",
       "      <th>cat_vec_4</th>\n",
       "      <th>cat_vec_5</th>\n",
       "      <th>cat_vec_6</th>\n",
       "      <th>cat_vec_7</th>\n",
       "      <th>cat_vec_8</th>\n",
       "      <th>cat_vec_9</th>\n",
       "      <th>...</th>\n",
       "      <th>desc_vec_12</th>\n",
       "      <th>desc_vec_13</th>\n",
       "      <th>desc_vec_14</th>\n",
       "      <th>desc_vec_15</th>\n",
       "      <th>desc_vec_16</th>\n",
       "      <th>desc_vec_17</th>\n",
       "      <th>desc_vec_18</th>\n",
       "      <th>desc_vec_19</th>\n",
       "      <th>desc_vec_20</th>\n",
       "      <th>page_count</th>\n",
       "    </tr>\n",
       "  </thead>\n",
       "  <tbody>\n",
       "    <tr>\n",
       "      <th>0</th>\n",
       "      <td>0195153448</td>\n",
       "      <td>0.177242</td>\n",
       "      <td>-0.025548</td>\n",
       "      <td>-0.071640</td>\n",
       "      <td>0.097087</td>\n",
       "      <td>-0.179107</td>\n",
       "      <td>-0.039103</td>\n",
       "      <td>0.221959</td>\n",
       "      <td>0.130537</td>\n",
       "      <td>-0.187101</td>\n",
       "      <td>...</td>\n",
       "      <td>0.390173</td>\n",
       "      <td>-0.299371</td>\n",
       "      <td>0.067378</td>\n",
       "      <td>-0.406473</td>\n",
       "      <td>0.927010</td>\n",
       "      <td>-0.137838</td>\n",
       "      <td>0.221249</td>\n",
       "      <td>-0.142201</td>\n",
       "      <td>-1.166863</td>\n",
       "      <td>808.0</td>\n",
       "    </tr>\n",
       "    <tr>\n",
       "      <th>1</th>\n",
       "      <td>0002005018</td>\n",
       "      <td>-0.177549</td>\n",
       "      <td>0.299218</td>\n",
       "      <td>0.134015</td>\n",
       "      <td>0.109432</td>\n",
       "      <td>-0.087066</td>\n",
       "      <td>0.048365</td>\n",
       "      <td>0.164578</td>\n",
       "      <td>0.037141</td>\n",
       "      <td>-0.381251</td>\n",
       "      <td>...</td>\n",
       "      <td>0.108623</td>\n",
       "      <td>-0.961141</td>\n",
       "      <td>-0.012924</td>\n",
       "      <td>-0.663211</td>\n",
       "      <td>0.922686</td>\n",
       "      <td>0.632078</td>\n",
       "      <td>1.145885</td>\n",
       "      <td>1.335396</td>\n",
       "      <td>0.360488</td>\n",
       "      <td>414.0</td>\n",
       "    </tr>\n",
       "    <tr>\n",
       "      <th>2</th>\n",
       "      <td>0002005018</td>\n",
       "      <td>-0.144065</td>\n",
       "      <td>0.350977</td>\n",
       "      <td>0.175400</td>\n",
       "      <td>0.041972</td>\n",
       "      <td>-0.142646</td>\n",
       "      <td>0.074127</td>\n",
       "      <td>0.125837</td>\n",
       "      <td>0.058516</td>\n",
       "      <td>-0.260554</td>\n",
       "      <td>...</td>\n",
       "      <td>0.095390</td>\n",
       "      <td>-1.012143</td>\n",
       "      <td>-0.096692</td>\n",
       "      <td>-0.709376</td>\n",
       "      <td>0.851086</td>\n",
       "      <td>0.580994</td>\n",
       "      <td>1.173394</td>\n",
       "      <td>1.264911</td>\n",
       "      <td>0.147226</td>\n",
       "      <td>414.0</td>\n",
       "    </tr>\n",
       "    <tr>\n",
       "      <th>3</th>\n",
       "      <td>0002005018</td>\n",
       "      <td>-0.172911</td>\n",
       "      <td>0.329424</td>\n",
       "      <td>0.142115</td>\n",
       "      <td>0.149241</td>\n",
       "      <td>-0.111801</td>\n",
       "      <td>0.143405</td>\n",
       "      <td>0.117791</td>\n",
       "      <td>0.055580</td>\n",
       "      <td>-0.334047</td>\n",
       "      <td>...</td>\n",
       "      <td>0.014023</td>\n",
       "      <td>-0.873615</td>\n",
       "      <td>-0.037510</td>\n",
       "      <td>-0.764126</td>\n",
       "      <td>1.061661</td>\n",
       "      <td>0.644290</td>\n",
       "      <td>1.167669</td>\n",
       "      <td>1.391760</td>\n",
       "      <td>0.335471</td>\n",
       "      <td>414.0</td>\n",
       "    </tr>\n",
       "    <tr>\n",
       "      <th>4</th>\n",
       "      <td>0002005018</td>\n",
       "      <td>-0.168868</td>\n",
       "      <td>0.372829</td>\n",
       "      <td>0.181781</td>\n",
       "      <td>0.093424</td>\n",
       "      <td>-0.064207</td>\n",
       "      <td>0.125295</td>\n",
       "      <td>0.203568</td>\n",
       "      <td>0.084338</td>\n",
       "      <td>-0.273797</td>\n",
       "      <td>...</td>\n",
       "      <td>0.024412</td>\n",
       "      <td>-0.936482</td>\n",
       "      <td>-0.086925</td>\n",
       "      <td>-0.647693</td>\n",
       "      <td>1.042733</td>\n",
       "      <td>0.681125</td>\n",
       "      <td>1.250890</td>\n",
       "      <td>1.098135</td>\n",
       "      <td>0.269964</td>\n",
       "      <td>414.0</td>\n",
       "    </tr>\n",
       "  </tbody>\n",
       "</table>\n",
       "<p>5 rows × 42 columns</p>\n",
       "</div>"
      ],
      "text/plain": [
       "         isbn  cat_vec_1  cat_vec_2  cat_vec_3  cat_vec_4  cat_vec_5  \\\n",
       "0  0195153448   0.177242  -0.025548  -0.071640   0.097087  -0.179107   \n",
       "1  0002005018  -0.177549   0.299218   0.134015   0.109432  -0.087066   \n",
       "2  0002005018  -0.144065   0.350977   0.175400   0.041972  -0.142646   \n",
       "3  0002005018  -0.172911   0.329424   0.142115   0.149241  -0.111801   \n",
       "4  0002005018  -0.168868   0.372829   0.181781   0.093424  -0.064207   \n",
       "\n",
       "   cat_vec_6  cat_vec_7  cat_vec_8  cat_vec_9  ...  desc_vec_12  desc_vec_13  \\\n",
       "0  -0.039103   0.221959   0.130537  -0.187101  ...     0.390173    -0.299371   \n",
       "1   0.048365   0.164578   0.037141  -0.381251  ...     0.108623    -0.961141   \n",
       "2   0.074127   0.125837   0.058516  -0.260554  ...     0.095390    -1.012143   \n",
       "3   0.143405   0.117791   0.055580  -0.334047  ...     0.014023    -0.873615   \n",
       "4   0.125295   0.203568   0.084338  -0.273797  ...     0.024412    -0.936482   \n",
       "\n",
       "   desc_vec_14  desc_vec_15  desc_vec_16  desc_vec_17  desc_vec_18  \\\n",
       "0     0.067378    -0.406473     0.927010    -0.137838     0.221249   \n",
       "1    -0.012924    -0.663211     0.922686     0.632078     1.145885   \n",
       "2    -0.096692    -0.709376     0.851086     0.580994     1.173394   \n",
       "3    -0.037510    -0.764126     1.061661     0.644290     1.167669   \n",
       "4    -0.086925    -0.647693     1.042733     0.681125     1.250890   \n",
       "\n",
       "   desc_vec_19  desc_vec_20  page_count  \n",
       "0    -0.142201    -1.166863       808.0  \n",
       "1     1.335396     0.360488       414.0  \n",
       "2     1.264911     0.147226       414.0  \n",
       "3     1.391760     0.335471       414.0  \n",
       "4     1.098135     0.269964       414.0  \n",
       "\n",
       "[5 rows x 42 columns]"
      ]
     },
     "execution_count": 87,
     "metadata": {},
     "output_type": "execute_result"
    }
   ],
   "source": [
    "# Ensure each vector is properly stored as a list of floats\n",
    "books['doc2vec_categories'] = books['doc2vec_categories'].apply(lambda x: list(x))\n",
    "books['doc2vec_description'] = books['doc2vec_description'].apply(lambda x: list(x))\n",
    "\n",
    "# Split 'doc2vec_categories' into separate columns\n",
    "categories_df = pd.DataFrame(books['doc2vec_categories'].tolist(), columns=[f'cat_vec_{i+1}' for i in range(20)])\n",
    "\n",
    "# Split 'doc2vec_description' into separate columns\n",
    "description_df = pd.DataFrame(books['doc2vec_description'].tolist(), columns=[f'desc_vec_{i+1}' for i in range(20)])\n",
    "\n",
    "# Concatenate the new columns with 'page_count' column\n",
    "books = pd.concat([books['isbn'], categories_df, description_df, books['page_count']], axis=1)\n",
    "books.head()"
   ]
  },
  {
   "cell_type": "code",
   "execution_count": 88,
   "metadata": {},
   "outputs": [
    {
     "data": {
      "text/plain": [
       "(164803, 42)"
      ]
     },
     "execution_count": 88,
     "metadata": {},
     "output_type": "execute_result"
    }
   ],
   "source": [
    "books.shape"
   ]
  },
  {
   "cell_type": "code",
   "execution_count": 89,
   "metadata": {},
   "outputs": [
    {
     "data": {
      "text/plain": [
       "(163514, 42)"
      ]
     },
     "execution_count": 89,
     "metadata": {},
     "output_type": "execute_result"
    }
   ],
   "source": [
    "# Trimming the extra rows\n",
    "books = books.iloc[:163514]\n",
    "books.shape"
   ]
  },
  {
   "cell_type": "markdown",
   "metadata": {},
   "source": [
    "### Save the dataset to csv file"
   ]
  },
  {
   "cell_type": "code",
   "execution_count": 90,
   "metadata": {},
   "outputs": [],
   "source": [
    "books.to_csv('books.csv', index=False)"
   ]
  },
  {
   "cell_type": "markdown",
   "metadata": {},
   "source": [
    "## Create the y_train dataset"
   ]
  },
  {
   "cell_type": "code",
   "execution_count": 83,
   "metadata": {},
   "outputs": [
    {
     "name": "stdout",
     "output_type": "stream",
     "text": [
      "(163514, 3)\n"
     ]
    }
   ],
   "source": [
    "# Specify the columns you want to keep\n",
    "keep_columns2 = ['userID', 'isbn', 'book_rating']\n",
    "\n",
    "# Create the new subset DataFrame with the specified columns\n",
    "ratings = merged_df[keep_columns2]\n",
    "print(ratings.shape)"
   ]
  },
  {
   "cell_type": "code",
   "execution_count": 84,
   "metadata": {},
   "outputs": [
    {
     "data": {
      "text/html": [
       "<div>\n",
       "<style scoped>\n",
       "    .dataframe tbody tr th:only-of-type {\n",
       "        vertical-align: middle;\n",
       "    }\n",
       "\n",
       "    .dataframe tbody tr th {\n",
       "        vertical-align: top;\n",
       "    }\n",
       "\n",
       "    .dataframe thead th {\n",
       "        text-align: right;\n",
       "    }\n",
       "</style>\n",
       "<table border=\"1\" class=\"dataframe\">\n",
       "  <thead>\n",
       "    <tr style=\"text-align: right;\">\n",
       "      <th></th>\n",
       "      <th>userID</th>\n",
       "      <th>isbn</th>\n",
       "      <th>book_rating</th>\n",
       "    </tr>\n",
       "  </thead>\n",
       "  <tbody>\n",
       "    <tr>\n",
       "      <th>0</th>\n",
       "      <td>2</td>\n",
       "      <td>0195153448</td>\n",
       "      <td>0.0</td>\n",
       "    </tr>\n",
       "    <tr>\n",
       "      <th>1</th>\n",
       "      <td>8</td>\n",
       "      <td>0002005018</td>\n",
       "      <td>5.0</td>\n",
       "    </tr>\n",
       "    <tr>\n",
       "      <th>2</th>\n",
       "      <td>11400</td>\n",
       "      <td>0002005018</td>\n",
       "      <td>0.0</td>\n",
       "    </tr>\n",
       "    <tr>\n",
       "      <th>3</th>\n",
       "      <td>11676</td>\n",
       "      <td>0002005018</td>\n",
       "      <td>8.0</td>\n",
       "    </tr>\n",
       "    <tr>\n",
       "      <th>4</th>\n",
       "      <td>41385</td>\n",
       "      <td>0002005018</td>\n",
       "      <td>0.0</td>\n",
       "    </tr>\n",
       "  </tbody>\n",
       "</table>\n",
       "</div>"
      ],
      "text/plain": [
       "  userID        isbn  book_rating\n",
       "0      2  0195153448          0.0\n",
       "1      8  0002005018          5.0\n",
       "2  11400  0002005018          0.0\n",
       "3  11676  0002005018          8.0\n",
       "4  41385  0002005018          0.0"
      ]
     },
     "execution_count": 84,
     "metadata": {},
     "output_type": "execute_result"
    }
   ],
   "source": [
    "ratings.head()"
   ]
  },
  {
   "cell_type": "code",
   "execution_count": 85,
   "metadata": {},
   "outputs": [],
   "source": [
    "ratings.to_csv('ratings.csv', index=False)"
   ]
  }
 ],
 "metadata": {
  "kernelspec": {
   "display_name": "Python 3",
   "language": "python",
   "name": "python3"
  },
  "language_info": {
   "codemirror_mode": {
    "name": "ipython",
    "version": 3
   },
   "file_extension": ".py",
   "mimetype": "text/x-python",
   "name": "python",
   "nbconvert_exporter": "python",
   "pygments_lexer": "ipython3",
   "version": "3.9.6"
  }
 },
 "nbformat": 4,
 "nbformat_minor": 2
}
